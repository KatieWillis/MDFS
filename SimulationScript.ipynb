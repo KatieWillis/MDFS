{
 "cells": [
  {
   "cell_type": "code",
   "execution_count": 1,
   "id": "68a106d5",
   "metadata": {
    "ExecuteTime": {
     "end_time": "2024-06-25T11:58:52.692000+01:00",
     "start_time": "2024-06-25T10:58:51.997Z"
    }
   },
   "outputs": [
    {
     "name": "stderr",
     "output_type": "stream",
     "text": [
      "\u001b[32m\u001b[1m  Activating\u001b[22m\u001b[39m project at `~/Library/CloudStorage/OneDrive-ImperialCollegeLondon/PhD work/Drive_modelling/DoubleDriveAutosome/Environment2/Environment`\n"
     ]
    }
   ],
   "source": [
    "] activate ../../../DoubleDriveAutosome/Environment2/Environment"
   ]
  },
  {
   "cell_type": "code",
   "execution_count": 2,
   "id": "801ea466",
   "metadata": {
    "ExecuteTime": {
     "end_time": "2024-06-25T11:59:13.632000+01:00",
     "start_time": "2024-06-25T10:58:52.152Z"
    }
   },
   "outputs": [],
   "source": [
    "#Load evolutionary stability model\n",
    "using NBInclude\n",
    "@nbinclude(\"../../../DoubleDriveAutosome/Environment2/Environment/Setup.ipynb\");\n",
    "@nbinclude(\"./SimulationFunctions.ipynb\");"
   ]
  },
  {
   "cell_type": "code",
   "execution_count": 3,
   "id": "f5de9fee",
   "metadata": {
    "ExecuteTime": {
     "end_time": "2024-06-25T11:59:15.066000+01:00",
     "start_time": "2024-06-25T10:58:52.334Z"
    }
   },
   "outputs": [],
   "source": [
    "using Distributions\n",
    "using Random"
   ]
  },
  {
   "cell_type": "markdown",
   "id": "c469bac7",
   "metadata": {
    "heading_collapsed": true
   },
   "source": [
    "## MDFS model"
   ]
  },
  {
   "cell_type": "markdown",
   "id": "66c3fb34",
   "metadata": {
    "heading_collapsed": true,
    "hidden": true
   },
   "source": [
    "### Load in gamete and fitness tables"
   ]
  },
  {
   "cell_type": "code",
   "execution_count": 96,
   "id": "f92df031",
   "metadata": {
    "ExecuteTime": {
     "end_time": "2024-06-24T15:35:17.942000+01:00",
     "start_time": "2024-06-24T14:35:17.886Z"
    },
    "hidden": true
   },
   "outputs": [],
   "source": [
    "#Define all alleles and genotypes \n",
    "loci=[\"A\"]\n",
    "alleles = [[\"A1\"],[\"A2\"],[\"A3\"],[\"A4\"]];\n",
    "genotypes = []\n",
    "for i in 1:length(alleles)\n",
    "    allele1 = alleles[i]\n",
    "    for j in i:length(alleles)\n",
    "        allele2 = alleles[j]\n",
    "        push!(genotypes,([allele1 allele2]))\n",
    "    end\n",
    "end;\n",
    "genotypes_m = genotypes\n",
    "genotypes_f = genotypes;\n",
    "falleles = alleles\n",
    "malleles = alleles;"
   ]
  },
  {
   "cell_type": "code",
   "execution_count": 97,
   "id": "336402d9",
   "metadata": {
    "ExecuteTime": {
     "end_time": "2024-06-24T15:35:18.611000+01:00",
     "start_time": "2024-06-24T14:35:18.489Z"
    },
    "hidden": true
   },
   "outputs": [],
   "source": [
    "#Define symbols (don't change)\n",
    "saf, haf, sαf, hαf, saαf,sam, ham, sαm, hαm, saαm, c, j, p, m, r = Sym(\"saf, haf, sαf, hαf, saαf,sam, ham, sαm, hαm, saαm, c, j, p, m, r\")\n",
    "\n",
    "genotypes_f_string = [string(genotypes_f[i][1]*genotypes_f[i][2]) for i in 1:length(genotypes_f)]\n",
    "genotypes_m_string = [string(genotypes_m[i][1]*genotypes_m[i][2]) for i in 1:length(genotypes_m)]\n",
    "\n",
    "#Read in gamete table\n",
    "maternal_gt = readdlm(\"./MDFS/MDFS_MaternalGameteTable.csv\", ',', String,header=true)[1]\n",
    "maternal_gt = convert(Array{Any}, maternal_gt[:,2:end])\n",
    "maternal_gt = eval.(Meta.parse.(maternal_gt))\n",
    "maternal_gt = Sym.(maternal_gt)\n",
    "\n",
    "paternal_gt = readdlm(\"./MDFS/MDFS_PaternalGameteTable.csv\", ',', String,header=true)[1]\n",
    "n_alleles = Int((length(paternal_gt[1,:])-1)/2)\n",
    "paternal_gt = convert(Array{Any}, paternal_gt[:,2:end])\n",
    "paternal_gt = eval.(Meta.parse.(paternal_gt))\n",
    "paternal_gt = Sym.(paternal_gt)\n",
    "\n",
    "#Read in fitness from storage\n",
    "fitness_f = readdlm(\"./MDFS/MDFS_fitness_f.csv\", ',', String,header=true)[1]\n",
    "fitness_f = convert(Array{Any}, fitness_f[:,2])\n",
    "fitness_f = eval.(Meta.parse.(fitness_f))\n",
    "fitness_f = Sym.(fitness_f)\n",
    "\n",
    "fitness_m = readdlm(\"./MDFS/MDFS_fitness_m.csv\", ',', String,header=true)[1]\n",
    "fitness_m = convert(Array{Any}, fitness_m[:,2])\n",
    "fitness_m = eval.(Meta.parse.(fitness_m))\n",
    "fitness_m = Sym.(fitness_m);\n"
   ]
  },
  {
   "cell_type": "code",
   "execution_count": 98,
   "id": "78415db6",
   "metadata": {
    "ExecuteTime": {
     "end_time": "2024-06-24T15:35:18.645000+01:00",
     "start_time": "2024-06-24T14:35:18.643Z"
    },
    "hidden": true
   },
   "outputs": [],
   "source": [
    "inputs = [genotypes_f,\n",
    "    genotypes_m,\n",
    "    maternal_gt,\n",
    "    paternal_gt,\n",
    "    fitness_f,\n",
    "    fitness_m];"
   ]
  },
  {
   "cell_type": "markdown",
   "id": "82730acd",
   "metadata": {
    "heading_collapsed": true,
    "hidden": true
   },
   "source": [
    "### Figure 1 (blue, red and green lines)"
   ]
  },
  {
   "cell_type": "code",
   "execution_count": 99,
   "id": "d931a2ba",
   "metadata": {
    "ExecuteTime": {
     "end_time": "2024-06-24T15:35:19.058000+01:00",
     "start_time": "2024-06-24T14:35:19.051Z"
    },
    "hidden": true
   },
   "outputs": [
    {
     "data": {
      "text/plain": [
       "1.0"
      ]
     },
     "execution_count": 99,
     "metadata": {},
     "output_type": "execute_result"
    }
   ],
   "source": [
    "#Define simulation scenario\n",
    "t=15\n",
    "release_freq = 1.0"
   ]
  },
  {
   "cell_type": "code",
   "execution_count": 100,
   "id": "55743ed1",
   "metadata": {
    "ExecuteTime": {
     "end_time": "2024-06-24T15:35:19.370000+01:00",
     "start_time": "2024-06-24T14:35:19.186Z"
    },
    "code_folding": [],
    "hidden": true
   },
   "outputs": [],
   "source": [
    "#SIT single release\n",
    "release_genotype= [\"A2\" \"A2\"]\n",
    "\n",
    "# Define inheritance and fitness params\n",
    "pdict = Dict()\n",
    "pdict[saf]=1.0\n",
    "pdict[haf]=1.0\n",
    "pdict[sαf]=1.0\n",
    "pdict[hαf]=1.0\n",
    "pdict[saαf]=1.0\n",
    "pdict[sam]=1.0\n",
    "pdict[ham]=1.0\n",
    "pdict[sαm]=1.0\n",
    "pdict[hαm]=1.0\n",
    "pdict[saαm]=1.0\n",
    "\n",
    "pdict[c]=0.0\n",
    "pdict[j]=0.0\n",
    "pdict[p]=0.0\n",
    "\n",
    "subs_list = [(p,pdict[p]) for p in keys(pdict)];\n",
    "\n",
    "#Simulate\n",
    "output_vec = []\n",
    "SIT_output = Simulate_single_release_example(subs_list,\n",
    "                                            inputs,\n",
    "                                            t,\n",
    "                                            release_freq,\n",
    "                                            release_genotype,\n",
    "                                            fitness = \"b\");"
   ]
  },
  {
   "cell_type": "code",
   "execution_count": 101,
   "id": "2400dc59",
   "metadata": {
    "ExecuteTime": {
     "end_time": "2024-06-24T15:35:19.445000+01:00",
     "start_time": "2024-06-24T14:35:19.382Z"
    },
    "code_folding": [
     0
    ],
    "hidden": true
   },
   "outputs": [],
   "source": [
    "#fsRIDL single release\n",
    "release_genotype= [\"A1\" \"A2\"]\n",
    "\n",
    "# Define inheritance and fitness params\n",
    "pdict = Dict()\n",
    "pdict[saf]=1.0\n",
    "pdict[haf]=1.0\n",
    "pdict[sαf]=1.0\n",
    "pdict[hαf]=1.0\n",
    "pdict[saαf]=1.0\n",
    "pdict[sam]=0.0\n",
    "pdict[ham]=0.0\n",
    "pdict[sαm]=0.0\n",
    "pdict[hαm]=0.0\n",
    "pdict[saαm]=0.0\n",
    "\n",
    "pdict[c]=0.0\n",
    "pdict[j]=0.0\n",
    "pdict[p]=0.0\n",
    "\n",
    "subs_list = [(p,pdict[p]) for p in keys(pdict)];\n",
    "\n",
    "#Simulate\n",
    "output_vec = []\n",
    "fsRIDL_output = Simulate_single_release_example(subs_list,\n",
    "                                            inputs,\n",
    "                                            t,\n",
    "                                            release_freq,\n",
    "                                            release_genotype,\n",
    "                                            fitness = \"a\");"
   ]
  },
  {
   "cell_type": "code",
   "execution_count": 102,
   "id": "7e95ade4",
   "metadata": {
    "ExecuteTime": {
     "end_time": "2024-06-24T15:35:19.644000+01:00",
     "start_time": "2024-06-24T14:35:19.558Z"
    },
    "code_folding": [
     0
    ],
    "hidden": true
   },
   "outputs": [],
   "source": [
    "#Homing single release\n",
    "release_genotype= [\"A1\" \"A2\"]\n",
    "\n",
    "# Define inheritance and fitness params\n",
    "pdict = Dict()\n",
    "pdict[saf]=1.0\n",
    "pdict[haf]=0.0\n",
    "pdict[sαf]=1.0\n",
    "pdict[hαf]=0.0\n",
    "pdict[saαf]=1.0\n",
    "pdict[sam]=0.0\n",
    "pdict[ham]=0.0\n",
    "pdict[sαm]=0.0\n",
    "pdict[hαm]=0.0\n",
    "pdict[saαm]=0.0\n",
    "\n",
    "pdict[c]=1.0\n",
    "pdict[j]=0.0\n",
    "pdict[p]=0.0\n",
    "\n",
    "subs_list = [(p,pdict[p]) for p in keys(pdict)];\n",
    "\n",
    "#Simulate\n",
    "output_vec = []\n",
    "homing_output = Simulate_single_release_example(subs_list,\n",
    "                                            inputs,\n",
    "                                            t,\n",
    "                                            release_freq,\n",
    "                                            release_genotype,\n",
    "                                            fitness = \"a\");"
   ]
  },
  {
   "cell_type": "code",
   "execution_count": 103,
   "id": "6ce9b163",
   "metadata": {
    "ExecuteTime": {
     "end_time": "2024-06-24T15:35:20.562000+01:00",
     "start_time": "2024-06-24T14:35:20.455Z"
    },
    "code_folding": [
     0
    ],
    "hidden": true
   },
   "outputs": [],
   "source": [
    "#MDFS single release\n",
    "release_genotype= [\"A1\" \"A2\"]\n",
    "\n",
    "# Define inheritance and fitness params\n",
    "pdict = Dict()\n",
    "pdict[saf]=1.0\n",
    "pdict[haf]=1.0\n",
    "pdict[sαf]=1.0\n",
    "pdict[hαf]=1.0\n",
    "pdict[saαf]=1.0\n",
    "pdict[sam]=0.0\n",
    "pdict[ham]=0.0\n",
    "pdict[sαm]=0.0\n",
    "pdict[hαm]=0.0\n",
    "pdict[saαm]=0.0\n",
    "\n",
    "pdict[c]=1.0\n",
    "pdict[j]=0.0\n",
    "pdict[p]=0.0\n",
    "\n",
    "\n",
    "subs_list = [(p,pdict[p]) for p in keys(pdict)];\n",
    "\n",
    "#Simulate\n",
    "output_vec = []\n",
    "MDFS_output = Simulate_single_release_example(subs_list,\n",
    "                                            inputs,\n",
    "                                            t,\n",
    "                                            release_freq,\n",
    "                                            release_genotype,\n",
    "                                            fitness = \"a\");"
   ]
  },
  {
   "cell_type": "markdown",
   "id": "5865c75a",
   "metadata": {
    "heading_collapsed": true,
    "hidden": true
   },
   "source": [
    "### Figure 5"
   ]
  },
  {
   "cell_type": "markdown",
   "id": "3aa934ea",
   "metadata": {
    "heading_collapsed": true,
    "hidden": true
   },
   "source": [
    "#### MDFS Optimal"
   ]
  },
  {
   "cell_type": "code",
   "execution_count": 36,
   "id": "506fff68",
   "metadata": {
    "ExecuteTime": {
     "end_time": "2024-06-24T13:15:42.990000+01:00",
     "start_time": "2024-06-24T12:15:42.920Z"
    },
    "hidden": true
   },
   "outputs": [],
   "source": [
    "# Define inheritance and fitness params\n",
    "pdict = Dict()\n",
    "pdict[saf]=1.0\n",
    "pdict[haf]=1.0\n",
    "pdict[sαf]=1.0\n",
    "pdict[hαf]=1.0\n",
    "pdict[saαf]=1.0\n",
    "pdict[sam]=0.0\n",
    "pdict[ham]=0.0\n",
    "pdict[sαm]=0.0\n",
    "pdict[hαm]=0.0\n",
    "pdict[saαm]=0.0\n",
    "\n",
    "pdict[c]=1.0\n",
    "pdict[j]=0.0\n",
    "pdict[p]=0.0\n",
    "\n",
    "\n",
    "subs_list = [(p,pdict[p]) for p in keys(pdict)];"
   ]
  },
  {
   "cell_type": "code",
   "execution_count": 28,
   "id": "c55ea5d8",
   "metadata": {
    "ExecuteTime": {
     "end_time": "2024-06-24T13:12:20.370000+01:00",
     "start_time": "2024-06-24T12:12:19.469Z"
    },
    "hidden": true
   },
   "outputs": [
    {
     "data": {
      "image/png": "[encoded data removed]",
      "text/plain": [
       "PyPlot.Figure(PyObject <Figure size 300x150 with 1 Axes>)"
      ]
     },
     "metadata": {},
     "output_type": "display_data"
    }
   ],
   "source": [
    "#Single release 100%\n",
    "t=100\n",
    "release_freq = 1\n",
    "release_genotype= [\"A1\" \"A2\"]\n",
    "#Simulate\n",
    "output = Simulate_single_release_example(subs_list,\n",
    "                                            inputs,\n",
    "                                            t,\n",
    "                                            release_freq,\n",
    "                                            release_genotype,\n",
    "                                            fitness = \"a\");\n",
    "\n",
    "f1 = PyPlot.figure(figsize=(3,1.5))\n",
    "\n",
    "PyPlot.plot(0:t,output[\"relative_number_females\"].adult,color = \"black\",\"--\",label=\"Relative no. biting females\")  \n",
    "PyPlot.plot(0:t,output[\"allelefreq_adult\"].A2,color = \"red\",\"-\",label=\"MDFS frequency\")  \n",
    "#PyPlot.plot(0:t,output[\"allelefreq_adult\"].A3,color = \"red\",\"--\",label=\"NHEJ product frequency\")  \n",
    "\n",
    "PyPlot.xlim(0,t)\n",
    "PyPlot.ylim(0,1.02)\n",
    "\n",
    "PyPlot.show()"
   ]
  },
  {
   "cell_type": "code",
   "execution_count": 29,
   "id": "0669bf71",
   "metadata": {
    "ExecuteTime": {
     "end_time": "2024-06-24T13:12:20.716000+01:00",
     "start_time": "2024-06-24T12:12:20.230Z"
    },
    "code_folding": [],
    "hidden": true
   },
   "outputs": [
    {
     "data": {
      "text/plain": [
       "0.041"
      ]
     },
     "execution_count": 29,
     "metadata": {},
     "output_type": "execute_result"
    }
   ],
   "source": [
    "#Find repeat release rate for 99% suppression within 36 generations\n",
    "n_releases = 36\n",
    "threshold = 0.01\n",
    "rr = find_release_rate_required(n_releases,\n",
    "                                0.0,\n",
    "                                threshold,\n",
    "                                pdict,\n",
    "                                inputs,\n",
    "                                t=n_releases,\n",
    "                                release_genotype=[\"A1\" \"A2\"])"
   ]
  },
  {
   "cell_type": "code",
   "execution_count": 33,
   "id": "b678d96f",
   "metadata": {
    "ExecuteTime": {
     "end_time": "2024-06-24T13:14:06.536000+01:00",
     "start_time": "2024-06-24T12:14:06.370Z"
    },
    "hidden": true,
    "scrolled": true
   },
   "outputs": [
    {
     "data": {
      "image/png": "[encoded data removed]",
      "text/plain": [
       "PyPlot.Figure(PyObject <Figure size 300x150 with 1 Axes>)"
      ]
     },
     "metadata": {},
     "output_type": "display_data"
    }
   ],
   "source": [
    "#Single release 100%\n",
    "t=100\n",
    "release_freq = rr\n",
    "release_genotype= [\"A1\" \"A2\"]\n",
    "#Simulate\n",
    "output = Simulate_single_release_example(subs_list,\n",
    "                                            inputs,\n",
    "                                            t,\n",
    "                                            release_freq,\n",
    "                                            release_genotype,\n",
    "                                            fitness = \"a\",\n",
    "                                            release_regime = repeat([release_freq],t));\n",
    "\n",
    "f1 = PyPlot.figure(figsize=(3,1.5))\n",
    "\n",
    "PyPlot.plot(0:t,output[\"relative_number_females\"].adult,color = \"black\",\"--\",label=\"Relative no. biting females\")  \n",
    "PyPlot.plot(0:t,output[\"allelefreq_adult\"].A2,color = \"red\",\"-\",label=\"MDFS frequency\")  \n",
    "\n",
    "PyPlot.plot([47,t],[output[\"allelefreq_adult\"].A2[47],output[\"allelefreq_adult\"].A2[47]],color = \"red\",\"-\")  \n",
    "\n",
    "PyPlot.xlim(0,t)\n",
    "PyPlot.ylim(0,1.02)\n",
    "\n",
    "PyPlot.show()"
   ]
  },
  {
   "cell_type": "markdown",
   "id": "f7c1ac1e",
   "metadata": {
    "heading_collapsed": true,
    "hidden": true
   },
   "source": [
    "#### MDFS Empirical"
   ]
  },
  {
   "cell_type": "code",
   "execution_count": 58,
   "id": "55553381",
   "metadata": {
    "ExecuteTime": {
     "end_time": "2024-06-24T13:19:26.229000+01:00",
     "start_time": "2024-06-24T12:19:26.193Z"
    },
    "hidden": true
   },
   "outputs": [
    {
     "data": {
      "text/latex": [
       "$\\frac{u \\left(e - 1\\right)}{e u - e - u}$"
      ],
      "text/plain": [
       " u⋅(e - 1) \n",
       "───────────\n",
       "e⋅u - e - u"
      ]
     },
     "execution_count": 58,
     "metadata": {},
     "output_type": "execute_result"
    }
   ],
   "source": [
    "#homing rates\n",
    "d_eq, e_eq, u_eq = symbols(\"d e u\");\n",
    "\n",
    "non_homed = 1-e_eq\n",
    "WT = non_homed*(1-u_eq)\n",
    "NHEJ = non_homed*u_eq;\n",
    "c_eq = e_eq+NHEJ\n",
    "j_eq = simplify(NHEJ/c_eq)"
   ]
  },
  {
   "cell_type": "code",
   "execution_count": 63,
   "id": "892fcbea",
   "metadata": {
    "ExecuteTime": {
     "end_time": "2024-06-24T13:19:47.980000+01:00",
     "start_time": "2024-06-24T12:19:47.968Z"
    },
    "hidden": true
   },
   "outputs": [
    {
     "data": {
      "text/plain": [
       "0.202"
      ]
     },
     "execution_count": 63,
     "metadata": {},
     "output_type": "execute_result"
    }
   ],
   "source": [
    "u_ = 0.392 #Hammond et al 2020\n",
    "\n",
    "d_ = 0.9955 #Data from Anna\n",
    "\n",
    "e_ = (d_-0.5)*2\n",
    "\n",
    "cleavage = subs(c_eq,(e_eq,e_),(u_eq,u_))\n",
    "joining =subs(j_eq,(e_eq,e_),(u_eq,u_))\n",
    "\n",
    "bias_m = 0.95"
   ]
  },
  {
   "cell_type": "code",
   "execution_count": 78,
   "id": "5793b91c",
   "metadata": {
    "ExecuteTime": {
     "end_time": "2024-06-24T13:21:40.839000+01:00",
     "start_time": "2024-06-24T12:21:40.759Z"
    },
    "hidden": true
   },
   "outputs": [],
   "source": [
    "# Define inheritance and fitness params\n",
    "pdict = Dict()\n",
    "pdict[saf]=1.0\n",
    "pdict[haf]=1.0\n",
    "pdict[sαf]=1.0\n",
    "pdict[hαf]=0.0\n",
    "pdict[saαf]=1.0\n",
    "pdict[sam]=0.0\n",
    "pdict[ham]=0.0\n",
    "pdict[sαm]=0.0\n",
    "pdict[hαm]=0.0\n",
    "pdict[saαm]=0.0\n",
    "\n",
    "pdict[c]=cleavage\n",
    "pdict[j]=joining\n",
    "pdict[p]=1.0\n",
    "\n",
    "subs_list = [(p,pdict[p]) for p in keys(pdict)];"
   ]
  },
  {
   "cell_type": "code",
   "execution_count": 79,
   "id": "13943514",
   "metadata": {
    "ExecuteTime": {
     "end_time": "2024-06-24T13:21:41.103000+01:00",
     "start_time": "2024-06-24T12:21:40.972Z"
    },
    "hidden": true
   },
   "outputs": [
    {
     "data": {
      "image/png": "[encoded data removed]",
      "text/plain": [
       "PyPlot.Figure(PyObject <Figure size 300x150 with 1 Axes>)"
      ]
     },
     "metadata": {},
     "output_type": "display_data"
    }
   ],
   "source": [
    "#Single release 100%\n",
    "t=100\n",
    "release_freq = 1\n",
    "release_genotype= [\"A1\" \"A2\"]\n",
    "#Simulate\n",
    "output = Simulate_single_release_example(subs_list,\n",
    "                                            inputs,\n",
    "                                            t,\n",
    "                                            release_freq,\n",
    "                                            release_genotype,\n",
    "                                            fitness = \"a\");\n",
    "\n",
    "f1 = PyPlot.figure(figsize=(3,1.5))\n",
    "\n",
    "PyPlot.plot(0:t,output[\"relative_number_females\"].adult,color = \"black\",\"--\",label=\"Relative no. biting females\")  \n",
    "PyPlot.plot(0:t,output[\"allelefreq_adult\"].A2,color = \"red\",\"-\",label=\"MDFS frequency\")  \n",
    "PyPlot.plot(0:t,output[\"allelefreq_adult\"].A3,color = \"red\",\"--\",label=\"NHEJ product frequency\")  \n",
    "\n",
    "PyPlot.xlim(0,t)\n",
    "PyPlot.ylim(0,1.02)\n",
    "\n",
    "PyPlot.show()"
   ]
  },
  {
   "cell_type": "code",
   "execution_count": 74,
   "id": "24400a85",
   "metadata": {
    "ExecuteTime": {
     "end_time": "2024-06-24T13:20:33+01:00",
     "start_time": "2024-06-24T12:20:32.725Z"
    },
    "code_folding": [],
    "hidden": true
   },
   "outputs": [
    {
     "data": {
      "text/plain": [
       "0.093"
      ]
     },
     "execution_count": 74,
     "metadata": {},
     "output_type": "execute_result"
    }
   ],
   "source": [
    "#Find repeat release rate for 99% suppression within 36 generations\n",
    "n_releases = 36\n",
    "threshold = 0.01\n",
    "rr = find_release_rate_required(n_releases,\n",
    "                                0.0,\n",
    "                                threshold,\n",
    "                                pdict,\n",
    "                                inputs,\n",
    "                                t=n_releases,\n",
    "                                release_genotype=[\"A1\" \"A2\"])"
   ]
  },
  {
   "cell_type": "code",
   "execution_count": 82,
   "id": "c00f3179",
   "metadata": {
    "ExecuteTime": {
     "end_time": "2024-06-24T13:21:59.343000+01:00",
     "start_time": "2024-06-24T12:21:59.214Z"
    },
    "hidden": true,
    "scrolled": true
   },
   "outputs": [
    {
     "data": {
      "image/png": "[encoded data removed]",
      "text/plain": [
       "PyPlot.Figure(PyObject <Figure size 300x150 with 1 Axes>)"
      ]
     },
     "metadata": {},
     "output_type": "display_data"
    }
   ],
   "source": [
    "#Single release 100%\n",
    "t=100\n",
    "release_freq = rr\n",
    "release_genotype= [\"A1\" \"A2\"]\n",
    "#Simulate\n",
    "output = Simulate_single_release_example(subs_list,\n",
    "                                            inputs,\n",
    "                                            t,\n",
    "                                            release_freq,\n",
    "                                            release_genotype,\n",
    "                                            fitness = \"a\",\n",
    "                                            release_regime = repeat([release_freq],t));\n",
    "\n",
    "f1 = PyPlot.figure(figsize=(3,1.5))\n",
    "\n",
    "PyPlot.plot(0:t,output[\"relative_number_females\"].adult,color = \"black\",\"--\",label=\"Relative no. biting females\")  \n",
    "PyPlot.plot(0:t,output[\"allelefreq_adult\"].A2,color = \"red\",\"-\",label=\"MDFS frequency\")  \n",
    "PyPlot.plot(0:t,output[\"allelefreq_adult\"].A4,color = \"red\",\"--\",label=\"NHEJ\")  \n",
    "\n",
    "PyPlot.xlim(0,t)\n",
    "PyPlot.ylim(0,1.02)\n",
    "\n",
    "PyPlot.show()"
   ]
  },
  {
   "cell_type": "markdown",
   "id": "314aa301",
   "metadata": {
    "heading_collapsed": true,
    "hidden": true
   },
   "source": [
    "### Table"
   ]
  },
  {
   "cell_type": "code",
   "execution_count": 86,
   "id": "e335a590",
   "metadata": {
    "ExecuteTime": {
     "end_time": "2024-06-24T13:26:40.766000+01:00",
     "start_time": "2024-06-24T12:26:40.032Z"
    },
    "code_folding": [
     0
    ],
    "hidden": true
   },
   "outputs": [
    {
     "name": "stdout",
     "output_type": "stream",
     "text": [
      "1.2969999999999995\n",
      "1.2999999999999992\n"
     ]
    }
   ],
   "source": [
    "# SIT\n",
    "pdict = Dict()\n",
    "pdict[saf]=1.0\n",
    "pdict[haf]=1.0\n",
    "pdict[sαf]=1.0\n",
    "pdict[hαf]=1.0\n",
    "pdict[saαf]=1.0\n",
    "pdict[sam]=1.0\n",
    "pdict[ham]=1.0\n",
    "pdict[sαm]=1.0\n",
    "pdict[hαm]=1.0\n",
    "pdict[saαm]=1.0\n",
    "\n",
    "pdict[c]=0\n",
    "pdict[j]=0\n",
    "pdict[p]=0\n",
    "\n",
    "#Find repeat release rate for 99% suppression within 36 generations\n",
    "n_releases = 36\n",
    "for threshold in [0.05,0.01]\n",
    "    println(find_release_rate_required(n_releases,\n",
    "                                    0.0,\n",
    "                                    threshold,\n",
    "                                    pdict,\n",
    "                                    inputs,\n",
    "                                    t=n_releases,\n",
    "                                    release_genotype=[\"A2\" \"A2\"],\n",
    "                                    fitness = \"b\"))\n",
    "end\n"
   ]
  },
  {
   "cell_type": "code",
   "execution_count": 87,
   "id": "89573413",
   "metadata": {
    "ExecuteTime": {
     "end_time": "2024-06-24T13:26:55.479000+01:00",
     "start_time": "2024-06-24T12:26:54.927Z"
    },
    "code_folding": [
     0
    ],
    "hidden": true
   },
   "outputs": [
    {
     "name": "stdout",
     "output_type": "stream",
     "text": [
      "0.43800000000000006\n",
      "0.44000000000000006\n"
     ]
    }
   ],
   "source": [
    "# RIDL\n",
    "pdict = Dict()\n",
    "pdict[saf]=1.0\n",
    "pdict[haf]=1.0\n",
    "pdict[sαf]=1.0\n",
    "pdict[hαf]=1.0\n",
    "pdict[saαf]=1.0\n",
    "pdict[sam]=1.0\n",
    "pdict[ham]=1.0\n",
    "pdict[sαm]=1.0\n",
    "pdict[hαm]=1.0\n",
    "pdict[saαm]=1.0\n",
    "\n",
    "pdict[c]=0\n",
    "pdict[j]=0\n",
    "pdict[p]=0\n",
    "\n",
    "#Find repeat release rate for 99% suppression within 36 generations\n",
    "n_releases = 36\n",
    "for threshold in [0.05,0.01]\n",
    "    println(find_release_rate_required(n_releases,\n",
    "                                    0.0,\n",
    "                                    threshold,\n",
    "                                    pdict,\n",
    "                                    inputs,\n",
    "                                    t=n_releases,\n",
    "                                    release_genotype=[\"A2\" \"A2\"],\n",
    "                                    fitness = \"a\"))\n",
    "end\n"
   ]
  },
  {
   "cell_type": "code",
   "execution_count": 88,
   "id": "83f118a3",
   "metadata": {
    "ExecuteTime": {
     "end_time": "2024-06-24T13:27:12.527000+01:00",
     "start_time": "2024-06-24T12:27:11.904Z"
    },
    "code_folding": [
     0
    ],
    "hidden": true
   },
   "outputs": [
    {
     "name": "stdout",
     "output_type": "stream",
     "text": [
      "0.668\n",
      "0.678\n"
     ]
    }
   ],
   "source": [
    "# fsRIDL\n",
    "pdict = Dict()\n",
    "pdict[saf]=1.0\n",
    "pdict[haf]=1.0\n",
    "pdict[sαf]=1.0\n",
    "pdict[hαf]=1.0\n",
    "pdict[saαf]=1.0\n",
    "pdict[sam]=0.0\n",
    "pdict[ham]=0.0\n",
    "pdict[sαm]=0.0\n",
    "pdict[hαm]=0.0\n",
    "pdict[saαm]=0.0\n",
    "\n",
    "pdict[c]=0\n",
    "pdict[j]=0\n",
    "pdict[p]=0\n",
    "\n",
    "#Find repeat release rate for 99% suppression within 36 generations\n",
    "n_releases = 36\n",
    "for threshold in [0.05,0.01]\n",
    "    println(find_release_rate_required(n_releases,\n",
    "                                    0.0,\n",
    "                                    threshold,\n",
    "                                    pdict,\n",
    "                                    inputs,\n",
    "                                    t=n_releases,\n",
    "                                    release_genotype=[\"A2\" \"A2\"],\n",
    "                                    fitness = \"a\"))\n",
    "end\n"
   ]
  },
  {
   "cell_type": "code",
   "execution_count": 84,
   "id": "8c6968a5",
   "metadata": {
    "ExecuteTime": {
     "end_time": "2024-06-24T13:25:05.970000+01:00",
     "start_time": "2024-06-24T12:25:05.504Z"
    },
    "code_folding": [
     0
    ],
    "hidden": true
   },
   "outputs": [
    {
     "name": "stdout",
     "output_type": "stream",
     "text": [
      "0.037000000000000005\n",
      "0.041\n"
     ]
    }
   ],
   "source": [
    "# MDFS\n",
    "pdict = Dict()\n",
    "pdict[saf]=1.0\n",
    "pdict[haf]=1.0\n",
    "pdict[sαf]=1.0\n",
    "pdict[hαf]=1.0\n",
    "pdict[saαf]=1.0\n",
    "pdict[sam]=0.0\n",
    "pdict[ham]=0.0\n",
    "pdict[sαm]=0.0\n",
    "pdict[hαm]=0.0\n",
    "pdict[saαm]=0.0\n",
    "\n",
    "pdict[c]=1.0\n",
    "pdict[j]=0.0\n",
    "pdict[p]=0.0\n",
    "\n",
    "#Find repeat release rate for 99% suppression within 36 generations\n",
    "n_releases = 36\n",
    "for threshold in [0.05,0.01]\n",
    "    println(find_release_rate_required(n_releases,\n",
    "                                    0.0,\n",
    "                                    threshold,\n",
    "                                    pdict,\n",
    "                                    inputs,\n",
    "                                    t=n_releases,\n",
    "                                    release_genotype=[\"A1\" \"A2\"]))\n",
    "end\n"
   ]
  },
  {
   "cell_type": "code",
   "execution_count": 85,
   "id": "872235a7",
   "metadata": {
    "ExecuteTime": {
     "end_time": "2024-06-24T13:25:40.278000+01:00",
     "start_time": "2024-06-24T12:25:39.743Z"
    },
    "code_folding": [
     0
    ],
    "hidden": true
   },
   "outputs": [
    {
     "name": "stdout",
     "output_type": "stream",
     "text": [
      "0.08900000000000001\n",
      "0.093\n"
     ]
    }
   ],
   "source": [
    "# MDFS empirical\n",
    "pdict = Dict()\n",
    "pdict[saf]=1.0\n",
    "pdict[haf]=1.0\n",
    "pdict[sαf]=1.0\n",
    "pdict[hαf]=0.0\n",
    "pdict[saαf]=1.0\n",
    "pdict[sam]=0.0\n",
    "pdict[ham]=0.0\n",
    "pdict[sαm]=0.0\n",
    "pdict[hαm]=0.0\n",
    "pdict[saαm]=0.0\n",
    "\n",
    "pdict[c]=cleavage\n",
    "pdict[j]=joining\n",
    "pdict[p]=1.0\n",
    "\n",
    "#Find repeat release rate for 99% suppression within 36 generations\n",
    "n_releases = 36\n",
    "for threshold in [0.05,0.01]\n",
    "    println(find_release_rate_required(n_releases,\n",
    "                                    0.0,\n",
    "                                    threshold,\n",
    "                                    pdict,\n",
    "                                    inputs,\n",
    "                                    t=n_releases,\n",
    "                                    release_genotype=[\"A1\" \"A2\"]))\n",
    "end\n"
   ]
  },
  {
   "cell_type": "markdown",
   "id": "90a8e335",
   "metadata": {
    "heading_collapsed": true
   },
   "source": [
    "## MDFS with XS model"
   ]
  },
  {
   "cell_type": "markdown",
   "id": "ae87a8fc",
   "metadata": {
    "heading_collapsed": true,
    "hidden": true
   },
   "source": [
    "### Load in gamete and fitness tables"
   ]
  },
  {
   "cell_type": "code",
   "execution_count": 80,
   "id": "6c41aa59",
   "metadata": {
    "ExecuteTime": {
     "end_time": "2024-06-25T14:17:11.323000+01:00",
     "start_time": "2024-06-25T11:30:57.772Z"
    },
    "hidden": true
   },
   "outputs": [],
   "source": [
    "#Define all alleles and genotypes \n",
    "loci = [\"A\",\"B\"]\n",
    "\n",
    "alleles = [[\"A1\", \"B1\"],\n",
    "            [\"A1\", \"B2\"],\n",
    "            [\"A2\", \"B1\"],\n",
    "            [\"A2\", \"B2\"],\n",
    "            [\"A3\", \"B1\"],\n",
    "            [\"A3\", \"B2\"],\n",
    "            [\"A4\", \"B1\"],\n",
    "            [\"A4\", \"B2\"]]\n",
    "\n",
    "genotypes = []\n",
    "for i in 1:length(alleles)\n",
    "    allele1 = alleles[i]\n",
    "    for j in i:length(alleles)\n",
    "        allele2 = alleles[j]\n",
    "        push!(genotypes,([allele1 allele2]))\n",
    "    end\n",
    "end;\n",
    "genotypes_m = genotypes\n",
    "genotypes_f = genotypes;\n",
    "falleles = alleles\n",
    "malleles = alleles;"
   ]
  },
  {
   "cell_type": "code",
   "execution_count": 81,
   "id": "dd76e4e3",
   "metadata": {
    "ExecuteTime": {
     "end_time": "2024-06-25T14:17:11.507000+01:00",
     "start_time": "2024-06-25T11:30:57.956Z"
    },
    "hidden": true
   },
   "outputs": [],
   "source": [
    "#Define symbols (don't change)\n",
    "saf, haf, sαf, hαf, saαf,sam, ham, sαm, hαm, saαm, c, j, p, m, r = Sym(\"saf, haf, sαf, hαf, saαf,sam, ham, sαm, hαm, saαm, c, j, p, m, r\")\n",
    "\n",
    "genotypes_f_string = [string(genotypes_f[i][1]*genotypes_f[i][2]) for i in 1:length(genotypes_f)]\n",
    "genotypes_m_string = [string(genotypes_m[i][1]*genotypes_m[i][2]) for i in 1:length(genotypes_m)]\n",
    "\n",
    "#Read in gamete table\n",
    "maternal_gt = readdlm(\"./MDFS_XS/MDFS_XS_MaternalGameteTable.csv\", ',', String,header=true)[1]\n",
    "maternal_gt = convert(Array{Any}, maternal_gt[:,2:end])\n",
    "maternal_gt = eval.(Meta.parse.(maternal_gt))\n",
    "maternal_gt = Sym.(maternal_gt)\n",
    "\n",
    "paternal_gt = readdlm(\"./MDFS_XS/MDFS_XS_PaternalGameteTable.csv\", ',', String,header=true)[1]\n",
    "n_alleles = Int((length(paternal_gt[1,:])-1)/2)\n",
    "paternal_gt = convert(Array{Any}, paternal_gt[:,2:end])\n",
    "paternal_gt = eval.(Meta.parse.(paternal_gt))\n",
    "paternal_gt = Sym.(paternal_gt)\n",
    "\n",
    "#Read in fitness from storage\n",
    "fitness_f = readdlm(\"./MDFS_XS/MDFS_XS_fitness_f.csv\", ',', String,header=true)[1]\n",
    "fitness_f = convert(Array{Any}, fitness_f[:,2])\n",
    "fitness_f = eval.(Meta.parse.(fitness_f))\n",
    "fitness_f = Sym.(fitness_f)\n",
    "\n",
    "fitness_m = readdlm(\"./MDFS_XS/MDFS_XS_fitness_m.csv\", ',', String,header=true)[1]\n",
    "fitness_m = convert(Array{Any}, fitness_m[:,2])\n",
    "fitness_m = eval.(Meta.parse.(fitness_m))\n",
    "fitness_m = Sym.(fitness_m);\n"
   ]
  },
  {
   "cell_type": "code",
   "execution_count": 82,
   "id": "3c75fa9a",
   "metadata": {
    "ExecuteTime": {
     "end_time": "2024-06-25T14:17:11.508000+01:00",
     "start_time": "2024-06-25T11:30:58.247Z"
    },
    "hidden": true
   },
   "outputs": [],
   "source": [
    "inputs = [genotypes_f,\n",
    "    genotypes_m,\n",
    "    maternal_gt,\n",
    "    paternal_gt,\n",
    "    fitness_f,\n",
    "    fitness_m];"
   ]
  },
  {
   "cell_type": "markdown",
   "id": "69aa30b9",
   "metadata": {
    "heading_collapsed": true,
    "hidden": true
   },
   "source": [
    "### Figure 1 (orange line)"
   ]
  },
  {
   "cell_type": "code",
   "execution_count": 108,
   "id": "36942926",
   "metadata": {
    "ExecuteTime": {
     "end_time": "2024-06-24T15:35:44.779000+01:00",
     "start_time": "2024-06-24T14:35:44.529Z"
    },
    "code_folding": [],
    "hidden": true
   },
   "outputs": [],
   "source": [
    "#MDFS with XS single release\n",
    "release_genotype= [\"A1\" \"A2\"; \"B1\" \"B2\"]\n",
    "release_freq = 1.0\n",
    "\n",
    "# Define inheritance and fitness params\n",
    "pdict = Dict()\n",
    "pdict[saf]=1.0\n",
    "pdict[haf]=1.0\n",
    "pdict[sαf]=1.0\n",
    "pdict[hαf]=1.0\n",
    "pdict[saαf]=1.0\n",
    "pdict[sam]=0.0\n",
    "pdict[ham]=0.0\n",
    "pdict[sαm]=0.0\n",
    "pdict[hαm]=0.0\n",
    "pdict[saαm]=0.0\n",
    "\n",
    "pdict[c]=1.0\n",
    "pdict[j]=0.0\n",
    "pdict[p]=0.0\n",
    "pdict[m]=1.0\n",
    "\n",
    "pdict[r]=0.5\n",
    "\n",
    "subs_list = [(p,pdict[p]) for p in keys(pdict)];\n",
    "\n",
    "#Simulate\n",
    "output_vec = []\n",
    "MDFSXS_output = Simulate_single_release_example(subs_list,\n",
    "                                            inputs,\n",
    "                                            t,\n",
    "                                            release_freq,\n",
    "                                            release_genotype,\n",
    "                                            fitness = \"a\");"
   ]
  },
  {
   "cell_type": "code",
   "execution_count": 114,
   "id": "0debd155",
   "metadata": {
    "ExecuteTime": {
     "end_time": "2024-06-24T15:36:56.758000+01:00",
     "start_time": "2024-06-24T14:36:56.681Z"
    },
    "code_folding": [
     0
    ],
    "hidden": true
   },
   "outputs": [
    {
     "data": {
      "image/png": "[encoded data removed]",
      "text/plain": [
       "PyPlot.Figure(PyObject <Figure size 300x150 with 1 Axes>)"
      ]
     },
     "metadata": {},
     "output_type": "display_data"
    }
   ],
   "source": [
    "#no. females\n",
    "f1 = PyPlot.figure(figsize=(3,1.5))\n",
    "\n",
    "PyPlot.plot(0:t,MDFS_output[\"relative_number_females\"].adult,color = \"red\",\"-\",label=\"MDFS frequency\")  \n",
    "PyPlot.plot(0:t,fsRIDL_output[\"relative_number_females\"].adult,color = \"green\",\"-\",label=\"MDFS frequency\")\n",
    "PyPlot.plot(0:t,homing_output[\"relative_number_females\"].adult,color = \"blue\",\"-\",label=\"MDFS frequency\")\n",
    "PyPlot.plot(0:t,MDFSXS_output[\"relative_number_females\"].adult,color = \"orange\",\"-\",label=\"MDFS frequency\")\n",
    "\n",
    "PyPlot.xlim(0,10)\n",
    "PyPlot.ylim(0,1.02)\n",
    "#PyPlot.legend(bbox_to_anchor=(1, 1))\n",
    "#PyPlot.ylim(0.01,0.3)\n",
    "\n",
    "#PyPlot.savefig(\"./figures/TimeSeries_OPtimalMDFS_single1.pdf\",bbox_inches = \"tight\")\n",
    "\n",
    "PyPlot.show()"
   ]
  },
  {
   "cell_type": "code",
   "execution_count": 115,
   "id": "f357cdd2",
   "metadata": {
    "ExecuteTime": {
     "end_time": "2024-06-24T15:36:59.394000+01:00",
     "start_time": "2024-06-24T14:36:59.319Z"
    },
    "code_folding": [
     0
    ],
    "hidden": true
   },
   "outputs": [
    {
     "data": {
      "image/png": "[encoded data removed]",
      "text/plain": [
       "PyPlot.Figure(PyObject <Figure size 300x150 with 1 Axes>)"
      ]
     },
     "metadata": {},
     "output_type": "display_data"
    }
   ],
   "source": [
    "#allele frequency \n",
    "f1 = PyPlot.figure(figsize=(3,1.5))\n",
    "\n",
    "PyPlot.plot(0:t,MDFS_output[\"allelefreq_reproadult\"].A2,color = \"red\",\"-\",label=\"MDFS frequency\")  \n",
    "PyPlot.plot(0:t,fsRIDL_output[\"allelefreq_reproadult\"].A2,color = \"green\",\"-\",label=\"MDFS frequency\")\n",
    "PyPlot.plot(0:t,homing_output[\"allelefreq_reproadult\"].A2,color = \"blue\",\"-\",label=\"MDFS frequency\")\n",
    "PyPlot.plot(0:t,MDFSXS_output[\"allelefreq_reproadult\"].A2,color = \"orange\",\"-\",label=\"MDFS frequency\")\n",
    "\n",
    "PyPlot.xlim(0,10)\n",
    "PyPlot.ylim(0,1.02)\n",
    "#PyPlot.legend(bbox_to_anchor=(1, 1))\n",
    "#PyPlot.ylim(0.01,0.3)\n",
    "\n",
    "#PyPlot.savefig(\"./figures/TimeSeries_OPtimalMDFS_single1.pdf\",bbox_inches = \"tight\")\n",
    "\n",
    "PyPlot.show()"
   ]
  },
  {
   "cell_type": "markdown",
   "id": "8930d29e",
   "metadata": {
    "heading_collapsed": true,
    "hidden": true
   },
   "source": [
    "### Figure 5"
   ]
  },
  {
   "cell_type": "markdown",
   "id": "dcc9bbfa",
   "metadata": {
    "heading_collapsed": true,
    "hidden": true
   },
   "source": [
    "#### MDFS with XS Optimal"
   ]
  },
  {
   "cell_type": "code",
   "execution_count": 121,
   "id": "79048ed7",
   "metadata": {
    "ExecuteTime": {
     "end_time": "2024-06-24T15:38:17.184000+01:00",
     "start_time": "2024-06-24T14:38:17.112Z"
    },
    "hidden": true
   },
   "outputs": [],
   "source": [
    "# Define inheritance and fitness params\n",
    "pdict = Dict()\n",
    "pdict[saf]=1.0\n",
    "pdict[haf]=1.0\n",
    "pdict[sαf]=1.0\n",
    "pdict[hαf]=1.0\n",
    "pdict[saαf]=1.0\n",
    "pdict[sam]=0.0\n",
    "pdict[ham]=0.0\n",
    "pdict[sαm]=0.0\n",
    "pdict[hαm]=0.0\n",
    "pdict[saαm]=0.0\n",
    "\n",
    "pdict[c]=1.0\n",
    "pdict[j]=0.0\n",
    "pdict[p]=0.0\n",
    "\n",
    "pdict[m]=1.0\n",
    "pdict[r]=0.5\n",
    "\n",
    "subs_list = [(p,pdict[p]) for p in keys(pdict)];"
   ]
  },
  {
   "cell_type": "code",
   "execution_count": 122,
   "id": "9ee64561",
   "metadata": {
    "ExecuteTime": {
     "end_time": "2024-06-24T15:38:18.079000+01:00",
     "start_time": "2024-06-24T14:38:17.766Z"
    },
    "hidden": true
   },
   "outputs": [
    {
     "data": {
      "image/png": "[encoded data removed]",
      "text/plain": [
       "PyPlot.Figure(PyObject <Figure size 300x150 with 1 Axes>)"
      ]
     },
     "metadata": {},
     "output_type": "display_data"
    }
   ],
   "source": [
    "#Single release 100%\n",
    "t=100\n",
    "release_freq = 1\n",
    "release_genotype= [\"A1\" \"A2\"; \"B1\" \"B2\"]\n",
    "#Simulate\n",
    "output = Simulate_single_release_example(subs_list,\n",
    "                                            inputs,\n",
    "                                            t,\n",
    "                                            release_freq,\n",
    "                                            release_genotype,\n",
    "                                            fitness = \"a\");\n",
    "\n",
    "f1 = PyPlot.figure(figsize=(3,1.5))\n",
    "\n",
    "PyPlot.plot(0:t,output[\"relative_number_females\"].adult,color = \"black\",\"--\",label=\"Relative no. biting females\")  \n",
    "PyPlot.plot(0:t,output[\"allelefreq_adult\"].A2,color = \"red\",\"-\",label=\"MDFS frequency\")  \n",
    "#PyPlot.plot(0:t,output[\"allelefreq_adult\"].A3,color = \"red\",\"--\",label=\"NHEJ product frequency\")  \n",
    "\n",
    "PyPlot.xlim(0,t)\n",
    "PyPlot.ylim(0,1.02)\n",
    "\n",
    "PyPlot.show()"
   ]
  },
  {
   "cell_type": "code",
   "execution_count": 123,
   "id": "ca154df8",
   "metadata": {
    "ExecuteTime": {
     "end_time": "2024-06-24T15:38:43.176000+01:00",
     "start_time": "2024-06-24T14:38:42.639Z"
    },
    "code_folding": [],
    "hidden": true
   },
   "outputs": [
    {
     "data": {
      "text/plain": [
       "0.005"
      ]
     },
     "execution_count": 123,
     "metadata": {},
     "output_type": "execute_result"
    }
   ],
   "source": [
    "#Find repeat release rate for 99% suppression within 36 generations\n",
    "n_releases = 36\n",
    "threshold = 0.01\n",
    "rr = find_release_rate_required(n_releases,\n",
    "                                0.0,\n",
    "                                threshold,\n",
    "                                pdict,\n",
    "                                inputs,\n",
    "                                t=n_releases,\n",
    "                                release_genotype=[\"A1\" \"A2\"; \"B1\" \"B2\"])"
   ]
  },
  {
   "cell_type": "code",
   "execution_count": 126,
   "id": "c22c24b8",
   "metadata": {
    "ExecuteTime": {
     "end_time": "2024-06-24T15:39:26.540000+01:00",
     "start_time": "2024-06-24T14:39:26.240Z"
    },
    "hidden": true,
    "scrolled": true
   },
   "outputs": [
    {
     "data": {
      "image/png": "[encoded data removed]",
      "text/plain": [
       "PyPlot.Figure(PyObject <Figure size 300x150 with 1 Axes>)"
      ]
     },
     "metadata": {},
     "output_type": "display_data"
    }
   ],
   "source": [
    "#Single release 100%\n",
    "t=100\n",
    "release_freq = rr\n",
    "release_genotype= [\"A1\" \"A2\"; \"B1\" \"B2\"]\n",
    "#Simulate\n",
    "output = Simulate_single_release_example(subs_list,\n",
    "                                            inputs,\n",
    "                                            t,\n",
    "                                            release_freq,\n",
    "                                            release_genotype,\n",
    "                                            fitness = \"a\",\n",
    "                                            release_regime = repeat([release_freq],t));\n",
    "\n",
    "f1 = PyPlot.figure(figsize=(3,1.5))\n",
    "\n",
    "PyPlot.plot(0:t,output[\"relative_number_females\"].adult,color = \"black\",\"--\",label=\"Relative no. biting females\")  \n",
    "PyPlot.plot(0:t,output[\"allelefreq_adult\"].A2,color = \"red\",\"-\",label=\"MDFS frequency\")  \n",
    "PyPlot.plot(0:t,output[\"allelefreq_adult\"].B2,color = \"blue\",\"-\",label=\"Booster\")  \n",
    "\n",
    "PyPlot.plot([47,t],[output[\"allelefreq_adult\"].A2[47],output[\"allelefreq_adult\"].A2[47]],color = \"red\",\"-\")  \n",
    "PyPlot.plot([47,t],[output[\"allelefreq_adult\"].B2[47],output[\"allelefreq_adult\"].B2[47]],color = \"blue\",\"-\")  \n",
    "\n",
    "PyPlot.xlim(0,t)\n",
    "PyPlot.ylim(0,1.02)\n",
    "\n",
    "PyPlot.show()"
   ]
  },
  {
   "cell_type": "markdown",
   "id": "03304ad7",
   "metadata": {
    "heading_collapsed": true,
    "hidden": true
   },
   "source": [
    "#### MDFS with XS Empirical"
   ]
  },
  {
   "cell_type": "code",
   "execution_count": 83,
   "id": "7362e699",
   "metadata": {
    "ExecuteTime": {
     "end_time": "2024-06-25T14:17:11.518000+01:00",
     "start_time": "2024-06-25T11:31:12.198Z"
    },
    "hidden": true
   },
   "outputs": [
    {
     "data": {
      "text/latex": [
       "$\\frac{u \\left(e - 1\\right)}{e u - e - u}$"
      ],
      "text/plain": [
       " u⋅(e - 1) \n",
       "───────────\n",
       "e⋅u - e - u"
      ]
     },
     "execution_count": 83,
     "metadata": {},
     "output_type": "execute_result"
    }
   ],
   "source": [
    "#homing rates\n",
    "d_eq, e_eq, u_eq = symbols(\"d e u\");\n",
    "\n",
    "non_homed = 1-e_eq\n",
    "WT = non_homed*(1-u_eq)\n",
    "NHEJ = non_homed*u_eq;\n",
    "c_eq = e_eq+NHEJ\n",
    "j_eq = simplify(NHEJ/c_eq)"
   ]
  },
  {
   "cell_type": "code",
   "execution_count": 84,
   "id": "15a90757",
   "metadata": {
    "ExecuteTime": {
     "end_time": "2024-06-25T14:17:11.520000+01:00",
     "start_time": "2024-06-25T11:31:13.639Z"
    },
    "hidden": true
   },
   "outputs": [
    {
     "data": {
      "text/plain": [
       "0.202"
      ]
     },
     "execution_count": 84,
     "metadata": {},
     "output_type": "execute_result"
    }
   ],
   "source": [
    "u_ = 0.392 #Hammond et al 2020\n",
    "\n",
    "d_ = 0.9955 #Data from Anna\n",
    "\n",
    "e_ = (d_-0.5)*2\n",
    "\n",
    "cleavage = subs(c_eq,(e_eq,e_),(u_eq,u_))\n",
    "joining =subs(j_eq,(e_eq,e_),(u_eq,u_))\n",
    "\n",
    "bias_m = 0.95\n",
    "recomb = 0.1\n"
   ]
  },
  {
   "cell_type": "code",
   "execution_count": 85,
   "id": "d63e5f4d",
   "metadata": {
    "ExecuteTime": {
     "end_time": "2024-06-25T14:17:11.558000+01:00",
     "start_time": "2024-06-25T11:31:15.958Z"
    },
    "hidden": true
   },
   "outputs": [],
   "source": [
    "# Define inheritance and fitness params\n",
    "pdict = Dict()\n",
    "pdict[saf]=1.0\n",
    "pdict[haf]=1.0\n",
    "pdict[sαf]=1.0\n",
    "pdict[hαf]=0.0\n",
    "pdict[saαf]=1.0\n",
    "pdict[sam]=0.0\n",
    "pdict[ham]=0.0\n",
    "pdict[sαm]=0.0\n",
    "pdict[hαm]=0.0\n",
    "pdict[saαm]=0.0\n",
    "\n",
    "pdict[c]=cleavage\n",
    "pdict[j]=joining\n",
    "pdict[p]=1.0\n",
    "\n",
    "pdict[m]=bias_m \n",
    "pdict[r]=recomb\n",
    "\n",
    "subs_list = [(p,pdict[p]) for p in keys(pdict)];"
   ]
  },
  {
   "cell_type": "code",
   "execution_count": 86,
   "id": "26cad4b1",
   "metadata": {
    "ExecuteTime": {
     "end_time": "2024-06-25T14:17:16.207000+01:00",
     "start_time": "2024-06-25T11:31:19.242Z"
    },
    "hidden": true
   },
   "outputs": [
    {
     "name": "stderr",
     "output_type": "stream",
     "text": [
      "sys:1: UserWarning: FigureCanvasAgg is non-interactive, and thus cannot be shown\n"
     ]
    },
    {
     "data": {
      "image/png": "[encoded data removed]",
      "text/plain": [
       "PyPlot.Figure(PyObject <Figure size 300x150 with 1 Axes>)"
      ]
     },
     "metadata": {},
     "output_type": "display_data"
    }
   ],
   "source": [
    "#Single release 100%\n",
    "t=100\n",
    "release_freq = 1\n",
    "release_genotype= [\"A1\" \"A2\"; \"B1\" \"B2\"]\n",
    "#Simulate\n",
    "output = Simulate_single_release_example(subs_list,\n",
    "                                            inputs,\n",
    "                                            t,\n",
    "                                            release_freq,\n",
    "                                            release_genotype,\n",
    "                                            fitness = \"a\");\n",
    "\n",
    "f1 = PyPlot.figure(figsize=(3,1.5))\n",
    "\n",
    "PyPlot.plot(0:t,output[\"relative_number_females\"].adult,color = \"black\",\"--\",label=\"Relative no. biting females\")  \n",
    "PyPlot.plot(0:t,output[\"allelefreq_adult\"].A2,color = \"red\",\"-\",label=\"MDFS frequency\")  \n",
    "PyPlot.plot(0:t,output[\"allelefreq_adult\"].A4,color = \"red\",\"--\",label=\"NHEJ product frequency\")  \n",
    "PyPlot.plot(0:t,output[\"allelefreq_adult\"].B2,color = \"blue\",\"-\",label=\"NHEJ product frequency\")  \n",
    "\n",
    "PyPlot.xlim(0,t)\n",
    "PyPlot.ylim(0,1.02)\n",
    "\n",
    "PyPlot.show()"
   ]
  },
  {
   "cell_type": "code",
   "execution_count": 183,
   "id": "5fa6013a",
   "metadata": {
    "ExecuteTime": {
     "end_time": "2024-06-24T15:55:13.128000+01:00",
     "start_time": "2024-06-24T14:55:11.424Z"
    },
    "code_folding": [],
    "hidden": true
   },
   "outputs": [
    {
     "data": {
      "text/plain": [
       "0.035"
      ]
     },
     "execution_count": 183,
     "metadata": {},
     "output_type": "execute_result"
    }
   ],
   "source": [
    "#Find repeat release rate for 99% suppression within 36 generations\n",
    "n_releases = 36\n",
    "threshold = 0.01\n",
    "rr = find_release_rate_required(n_releases,\n",
    "                                0.0,\n",
    "                                threshold,\n",
    "                                pdict,\n",
    "                                inputs,\n",
    "                                t=n_releases,\n",
    "                                release_genotype=[\"A1\" \"A2\"; \"B2\" \"B1\"],\n",
    "                                accuracy = 0.001)"
   ]
  },
  {
   "cell_type": "code",
   "execution_count": 184,
   "id": "9050e8ef",
   "metadata": {
    "ExecuteTime": {
     "end_time": "2024-06-24T15:55:14.723000+01:00",
     "start_time": "2024-06-24T14:55:13.759Z"
    },
    "hidden": true,
    "scrolled": true
   },
   "outputs": [
    {
     "data": {
      "image/png": "[encoded data removed]",
      "text/plain": [
       "PyPlot.Figure(PyObject <Figure size 300x150 with 1 Axes>)"
      ]
     },
     "metadata": {},
     "output_type": "display_data"
    }
   ],
   "source": [
    "#Single release 100%\n",
    "t=100\n",
    "release_freq = rr\n",
    "release_genotype= [\"A1\" \"A2\"; \"B2\" \"B1\"]\n",
    "#Simulate\n",
    "output = Simulate_single_release_example(subs_list,\n",
    "                                            inputs,\n",
    "                                            t,\n",
    "                                            release_freq,\n",
    "                                            release_genotype,\n",
    "                                            fitness = \"a\",\n",
    "                                            release_regime = repeat([release_freq],t));\n",
    "\n",
    "f1 = PyPlot.figure(figsize=(3,1.5))\n",
    "\n",
    "PyPlot.plot(0:t,output[\"relative_number_females\"].adult,color = \"black\",\"--\",label=\"Relative no. biting females\")  \n",
    "PyPlot.plot(0:t,output[\"allelefreq_adult\"].A2,color = \"red\",\"-\",label=\"MDFS frequency\")  \n",
    "PyPlot.plot(0:t,output[\"allelefreq_adult\"].A4,color = \"red\",\"--\",label=\"NHEJ\")  \n",
    "PyPlot.plot(0:t,output[\"allelefreq_adult\"].B2,color = \"blue\",\"-\",label=\"Booster\")  \n",
    "\n",
    "PyPlot.xlim(0,t)\n",
    "PyPlot.ylim(0,1.02)\n",
    "\n",
    "PyPlot.show()"
   ]
  },
  {
   "cell_type": "markdown",
   "id": "8898b47c",
   "metadata": {
    "heading_collapsed": true,
    "hidden": true
   },
   "source": [
    "### Table"
   ]
  },
  {
   "cell_type": "code",
   "execution_count": 187,
   "id": "8aef2bd0",
   "metadata": {
    "ExecuteTime": {
     "end_time": "2024-06-24T15:57:29.580000+01:00",
     "start_time": "2024-06-24T14:57:26.601Z"
    },
    "code_folding": [
     0
    ],
    "hidden": true
   },
   "outputs": [
    {
     "name": "stdout",
     "output_type": "stream",
     "text": [
      "0.004\n",
      "0.005\n"
     ]
    }
   ],
   "source": [
    "# MDFS with XS\n",
    "pdict = Dict()\n",
    "pdict[saf]=1.0\n",
    "pdict[haf]=1.0\n",
    "pdict[sαf]=1.0\n",
    "pdict[hαf]=1.0\n",
    "pdict[saαf]=1.0\n",
    "pdict[sam]=0.0\n",
    "pdict[ham]=0.0\n",
    "pdict[sαm]=0.0\n",
    "pdict[hαm]=0.0\n",
    "pdict[saαm]=0.0\n",
    "\n",
    "pdict[c]=1.0\n",
    "pdict[j]=0.0\n",
    "pdict[p]=0.0\n",
    "\n",
    "pdict[m]=1.0\n",
    "pdict[r]=0.5\n",
    "\n",
    "#Find repeat release rate for 99% suppression within 36 generations\n",
    "n_releases = 36\n",
    "for threshold in [0.05,0.01]\n",
    "    println(find_release_rate_required(n_releases,\n",
    "                                    0.0,\n",
    "                                    threshold,\n",
    "                                    pdict,\n",
    "                                    inputs,\n",
    "                                    t=n_releases,\n",
    "                                    release_genotype=[\"A1\" \"A2\"; \"B2\" \"B1\"]))\n",
    "end"
   ]
  },
  {
   "cell_type": "code",
   "execution_count": 87,
   "id": "86d4f2b2",
   "metadata": {
    "ExecuteTime": {
     "end_time": "2024-06-25T14:17:20.017000+01:00",
     "start_time": "2024-06-25T11:31:32.238Z"
    },
    "code_folding": [
     0
    ],
    "hidden": true
   },
   "outputs": [
    {
     "name": "stdout",
     "output_type": "stream",
     "text": [
      "0.025\n",
      "0.035\n"
     ]
    }
   ],
   "source": [
    "# MDFS with XS empirical\n",
    "pdict = Dict()\n",
    "pdict[saf]=1.0\n",
    "pdict[haf]=1.0\n",
    "pdict[sαf]=1.0\n",
    "pdict[hαf]=0.0\n",
    "pdict[saαf]=1.0\n",
    "pdict[sam]=0.0\n",
    "pdict[ham]=0.0\n",
    "pdict[sαm]=0.0\n",
    "pdict[hαm]=0.0\n",
    "pdict[saαm]=0.0\n",
    "\n",
    "pdict[c]=cleavage\n",
    "pdict[j]=joining\n",
    "pdict[p]=1.0\n",
    "\n",
    "pdict[m]=bias_m \n",
    "pdict[r]=recomb\n",
    "\n",
    "#Find repeat release rate for 99% suppression within 36 generations\n",
    "n_releases = 36\n",
    "for threshold in [0.05,0.01]\n",
    "    println(find_release_rate_required(n_releases,\n",
    "                                    0.0,\n",
    "                                    threshold,\n",
    "                                    pdict,\n",
    "                                    inputs,\n",
    "                                    t=n_releases,\n",
    "                                    release_genotype=[\"A1\" \"A2\"; \"B2\" \"B1\"]))\n",
    "end\n"
   ]
  },
  {
   "cell_type": "markdown",
   "id": "b605dfe0",
   "metadata": {
    "heading_collapsed": true,
    "hidden": true
   },
   "source": [
    "### Sensitivitiy analysis"
   ]
  },
  {
   "cell_type": "code",
   "execution_count": null,
   "id": "2e7e2918",
   "metadata": {
    "code_folding": [
     0
    ],
    "hidden": true
   },
   "outputs": [],
   "source": [
    "#setup \n",
    "pdict = Dict()\n",
    "pdict[saf]=1.0\n",
    "pdict[haf]=1.0\n",
    "pdict[sαf]=1.0\n",
    "pdict[hαf]=0.0\n",
    "pdict[saαf]=1.0\n",
    "pdict[sam]=0.0\n",
    "pdict[ham]=0.0\n",
    "pdict[sαm]=0.0\n",
    "pdict[hαm]=0.0\n",
    "pdict[saαm]=0.0\n",
    "\n",
    "pdict[c]=cleavage\n",
    "pdict[j]=joining\n",
    "pdict[p]=1.0\n",
    "\n",
    "pdict[m]=bias_m "
   ]
  },
  {
   "cell_type": "code",
   "execution_count": 193,
   "id": "bf0296bd",
   "metadata": {
    "ExecuteTime": {
     "end_time": "2024-06-24T16:11:34.598000+01:00",
     "start_time": "2024-06-24T15:08:47.202Z"
    },
    "code_folding": [
     0
    ],
    "hidden": true
   },
   "outputs": [],
   "source": [
    "#Unlinked hets\n",
    "pdict[r]=0.5\n",
    "release_genotype = [\"A1\" \"A2\"; \"B2\" \"B1\"]\n",
    "\n",
    "#Find repeat release rate for 99% suppression within 36 generations\n",
    "n_releases = 36\n",
    "threshold = 0.01\n",
    "rr_output = []\n",
    "param_vals = collect(0:0.01:1)\n",
    "param_label=[p]\n",
    "for param in param_vals\n",
    "    rr = find_release_rate_required(n_releases,\n",
    "                                    0.0,\n",
    "                                    threshold,\n",
    "                                    pdict,\n",
    "                                    inputs,\n",
    "                                    t=n_releases,\n",
    "                                    release_genotype=release_genotype,\n",
    "                                    param_mod=[param],\n",
    "                                    param_label=param_label)\n",
    "    push!(rr_output,rr)\n",
    "end\n",
    "rr_output_het_unlinked = rr_output\n",
    "@save \"./results/SensitivityAnalysis_p_MDFS+XS_unlinkedhets.jld2\" rr_output\n"
   ]
  },
  {
   "cell_type": "code",
   "execution_count": 194,
   "id": "9426a5c5",
   "metadata": {
    "ExecuteTime": {
     "end_time": "2024-06-24T16:14:21.970000+01:00",
     "start_time": "2024-06-24T15:09:04.009Z"
    },
    "code_folding": [
     0
    ],
    "hidden": true
   },
   "outputs": [],
   "source": [
    "#linked hets\n",
    "pdict[r]=0.01\n",
    "release_genotype = [\"A1\" \"A2\"; \"B2\" \"B1\"]\n",
    "\n",
    "#Find repeat release rate for 99% suppression within 36 generations\n",
    "n_releases = 36\n",
    "threshold = 0.01\n",
    "rr_output = []\n",
    "param_vals = collect(0:0.01:1)\n",
    "param_label=[p]\n",
    "for param in param_vals\n",
    "    rr = find_release_rate_required(n_releases,\n",
    "                                    0.0,\n",
    "                                    threshold,\n",
    "                                    pdict,\n",
    "                                    inputs,\n",
    "                                    t=n_releases,\n",
    "                                    release_genotype=release_genotype,\n",
    "                                    param_mod=[param],\n",
    "                                    param_label=param_label)\n",
    "    push!(rr_output,rr)\n",
    "end\n",
    "rr_output_het_linked = rr_output\n",
    "@save \"./results/SensitivityAnalysis_p_MDFS+XS_linkedhets.jld2\" rr_output\n"
   ]
  },
  {
   "cell_type": "code",
   "execution_count": 195,
   "id": "0432d777",
   "metadata": {
    "ExecuteTime": {
     "end_time": "2024-06-24T16:17:03.335000+01:00",
     "start_time": "2024-06-24T15:09:14.936Z"
    },
    "code_folding": [],
    "hidden": true
   },
   "outputs": [],
   "source": [
    "#unlinked homs\n",
    "pdict[r]=0.5\n",
    "release_genotype = [\"A1\" \"A2\"; \"B2\" \"B2\"]\n",
    "\n",
    "#Find repeat release rate for 99% suppression within 36 generations\n",
    "n_releases = 36\n",
    "threshold = 0.01\n",
    "rr_output = []\n",
    "param_vals = collect(0:0.01:1)\n",
    "param_label=[p]\n",
    "for param in param_vals\n",
    "    rr = find_release_rate_required(n_releases,\n",
    "                                    0.0,\n",
    "                                    threshold,\n",
    "                                    pdict,\n",
    "                                    inputs,\n",
    "                                    t=n_releases,\n",
    "                                    release_genotype=release_genotype,\n",
    "                                    param_mod=[param],\n",
    "                                    param_label=param_label)\n",
    "    push!(rr_output,rr)\n",
    "end\n",
    "rr_output_hom_unlinked = rr_output\n",
    "@save \"./results/SensitivityAnalysis_p_MDFS+XS_unlinkedhoms.jld2\" rr_output\n"
   ]
  },
  {
   "cell_type": "code",
   "execution_count": 196,
   "id": "491b4c19",
   "metadata": {
    "ExecuteTime": {
     "end_time": "2024-06-24T16:23:23.801000+01:00",
     "start_time": "2024-06-24T15:09:23.688Z"
    },
    "code_folding": [
     0
    ],
    "hidden": true
   },
   "outputs": [],
   "source": [
    "#linked homs\n",
    "pdict[r]=0.01\n",
    "release_genotype = [\"A1\" \"A2\"; \"B2\" \"B2\"]\n",
    "\n",
    "#Find repeat release rate for 99% suppression within 36 generations\n",
    "n_releases = 36\n",
    "threshold = 0.01\n",
    "rr_output = []\n",
    "param_vals = collect(0:0.01:1)\n",
    "param_label=[p]\n",
    "for param in param_vals\n",
    "    rr = find_release_rate_required(n_releases,\n",
    "                                    0.0,\n",
    "                                    threshold,\n",
    "                                    pdict,\n",
    "                                    inputs,\n",
    "                                    t=n_releases,\n",
    "                                    release_genotype=release_genotype,\n",
    "                                    param_mod=[param],\n",
    "                                    param_label=param_label)\n",
    "    push!(rr_output,rr)\n",
    "end\n",
    "rr_output_hom_linked = rr_output\n",
    "@save \"./results/SensitivityAnalysis_p_MDFS+XS_linkedhoms.jld2\" rr_output\n"
   ]
  },
  {
   "cell_type": "code",
   "execution_count": 197,
   "id": "c63c7f4a",
   "metadata": {
    "ExecuteTime": {
     "end_time": "2024-06-24T16:26:40.515000+01:00",
     "start_time": "2024-06-24T15:11:00.679Z"
    },
    "code_folding": [
     0
    ],
    "hidden": true
   },
   "outputs": [],
   "source": [
    "#MDFS alone\n",
    "pdict[r]=0.5\n",
    "release_genotype = [\"A1\" \"A2\"; \"B1\" \"B1\"]\n",
    "\n",
    "#Find repeat release rate for 99% suppression within 36 generations\n",
    "n_releases = 36\n",
    "threshold = 0.01\n",
    "rr_output = []\n",
    "param_vals = collect(0:0.01:1)\n",
    "param_label=[p]\n",
    "for param in param_vals\n",
    "    rr = find_release_rate_required(n_releases,\n",
    "                                    0.0,\n",
    "                                    threshold,\n",
    "                                    pdict,\n",
    "                                    inputs,\n",
    "                                    t=n_releases,\n",
    "                                    release_genotype=release_genotype,\n",
    "                                    param_mod=[param],\n",
    "                                    param_label=param_label)\n",
    "    push!(rr_output,rr)\n",
    "end\n",
    "rr_output_hom_linked = rr_output\n",
    "@save \"./results/SensitivityAnalysis_p_MDFS.jld2\" rr_output\n"
   ]
  },
  {
   "cell_type": "code",
   "execution_count": 201,
   "id": "e892a113",
   "metadata": {
    "ExecuteTime": {
     "end_time": "2024-06-24T16:30:14.970000+01:00",
     "start_time": "2024-06-24T15:30:14.778Z"
    },
    "code_folding": [
     0
    ],
    "hidden": true
   },
   "outputs": [
    {
     "name": "stderr",
     "output_type": "stream",
     "text": [
      "sys:1: UserWarning: FigureCanvasAgg is non-interactive, and thus cannot be shown\n"
     ]
    },
    {
     "data": {
      "image/png": "[encoded data removed]",
      "text/plain": [
       "PyPlot.Figure(PyObject <Figure size 300x250 with 1 Axes>)"
      ]
     },
     "metadata": {},
     "output_type": "display_data"
    }
   ],
   "source": [
    "#plot\n",
    "param_vals = reverse(collect(0:0.01:1))\n",
    "\n",
    "f1 = PyPlot.figure(figsize=(3,2.5))\n",
    "\n",
    "@load \"./results/SensitivityAnalysis_p_MDFS.jld2\"\n",
    "PyPlot.plot(param_vals,rr_output,label =\"MDFS\",color=\"blue\")\n",
    "#PyPlot.plot(0.0,lab_rrr[index],\"o\")\n",
    "\n",
    "@load \"./results/SensitivityAnalysis_p_MDFS+XS_unlinkedhets.jld2\"\n",
    "PyPlot.plot(param_vals,rr_output,label =\"MDFS+XS unlinked hets\",color=\"orange\")\n",
    "#PyPlot.plot(0.0,lab_rrr[index],\"o\")\n",
    "\n",
    "@load \"./results/SensitivityAnalysis_p_MDFS+XS_linkedhets.jld2\"\n",
    "PyPlot.plot(param_vals,rr_output,label =\"MDFS+XS linked hets\",color=\"red\",\"--\")\n",
    "#PyPlot.plot(0.0,lab_rrr[index],\"o\")\n",
    "\n",
    "@load \"./results/SensitivityAnalysis_p_MDFS+XS_unlinkedhoms.jld2\"\n",
    "PyPlot.plot(param_vals,rr_output,label =\"MDFS+XS unlinked homs\",color=\"lightgreen\")\n",
    "#PyPlot.plot(0.0,lab_rrr[index],\"o\")\n",
    "\n",
    "@load \"./results/SensitivityAnalysis_p_MDFS+XS_linkedhoms.jld2\"\n",
    "PyPlot.plot(param_vals,rr_output,label =\"MDFS+XS linked homs\",color=\"darkgreen\",\"--\")\n",
    "\n",
    "PyPlot.xlim(0,1)\n",
    "PyPlot.yscale(\"log\")\n",
    "PyPlot.ylim(0.018,2)\n",
    "PyPlot.yticks([0.003,0.01,0.03,0.1,0.3,1],[0.003,0.01,0.03,0.1,0.3,1])\n",
    "\n",
    "PyPlot.ylabel(\"Release rate required\")\n",
    "PyPlot.xlabel(\"Proportion of NHEJ which are dominant\")\n",
    "\n",
    "PyPlot.legend(bbox_to_anchor=(1, 1))\n",
    "\n",
    "PyPlot.show()"
   ]
  },
  {
   "cell_type": "markdown",
   "id": "68b05a4a",
   "metadata": {},
   "source": [
    "## Cage trial simulation"
   ]
  },
  {
   "cell_type": "markdown",
   "id": "763dff47",
   "metadata": {
    "heading_collapsed": true
   },
   "source": [
    "### Load in gamete and fitness tables"
   ]
  },
  {
   "cell_type": "code",
   "execution_count": 4,
   "id": "c8e16c6c",
   "metadata": {
    "ExecuteTime": {
     "end_time": "2024-06-25T11:59:15.139000+01:00",
     "start_time": "2024-06-25T10:58:56.533Z"
    },
    "hidden": true
   },
   "outputs": [],
   "source": [
    "#Define all alleles and genotypes \n",
    "loci=[\"A\"]\n",
    "alleles = [[\"A1\"],[\"A2\"],[\"A3\"],[\"A4\"]];\n",
    "genotypes = []\n",
    "for i in 1:length(alleles)\n",
    "    allele1 = alleles[i]\n",
    "    for j in i:length(alleles)\n",
    "        allele2 = alleles[j]\n",
    "        push!(genotypes,([allele1 allele2]))\n",
    "    end\n",
    "end;\n",
    "genotypes_m = genotypes\n",
    "genotypes_f = genotypes;\n",
    "falleles = alleles\n",
    "malleles = alleles;"
   ]
  },
  {
   "cell_type": "code",
   "execution_count": 5,
   "id": "9055dd76",
   "metadata": {
    "ExecuteTime": {
     "end_time": "2024-06-25T11:59:16.216000+01:00",
     "start_time": "2024-06-25T10:58:56.872Z"
    },
    "hidden": true
   },
   "outputs": [],
   "source": [
    "#Define symbols (don't change)\n",
    "saf, haf, sαf, hαf, saαf,sam, ham, sαm, hαm, saαm, c, j, p, m, r = Sym(\"saf, haf, sαf, hαf, saαf,sam, ham, sαm, hαm, saαm, c, j, p, m, r\")\n",
    "\n",
    "genotypes_f_string = [string(genotypes_f[i][1]*genotypes_f[i][2]) for i in 1:length(genotypes_f)]\n",
    "genotypes_m_string = [string(genotypes_m[i][1]*genotypes_m[i][2]) for i in 1:length(genotypes_m)]\n",
    "\n",
    "#Read in gamete table\n",
    "maternal_gt = readdlm(\"./MDFS/MDFS_MaternalGameteTable.csv\", ',', String,header=true)[1]\n",
    "maternal_gt = convert(Array{Any}, maternal_gt[:,2:end])\n",
    "maternal_gt = eval.(Meta.parse.(maternal_gt))\n",
    "maternal_gt = Sym.(maternal_gt)\n",
    "\n",
    "paternal_gt = readdlm(\"./MDFS/MDFS_PaternalGameteTable.csv\", ',', String,header=true)[1]\n",
    "n_alleles = Int((length(paternal_gt[1,:])-1)/2)\n",
    "paternal_gt = convert(Array{Any}, paternal_gt[:,2:end])\n",
    "paternal_gt = eval.(Meta.parse.(paternal_gt))\n",
    "paternal_gt = Sym.(paternal_gt)\n",
    "\n",
    "#Read in fitness from storage\n",
    "fitness_f = readdlm(\"./MDFS/MDFS_fitness_f.csv\", ',', String,header=true)[1]\n",
    "fitness_f = convert(Array{Any}, fitness_f[:,2])\n",
    "fitness_f = eval.(Meta.parse.(fitness_f))\n",
    "fitness_f = Sym.(fitness_f)\n",
    "\n",
    "fitness_m = readdlm(\"./MDFS/MDFS_fitness_m.csv\", ',', String,header=true)[1]\n",
    "fitness_m = convert(Array{Any}, fitness_m[:,2])\n",
    "fitness_m = eval.(Meta.parse.(fitness_m))\n",
    "fitness_m = Sym.(fitness_m);\n"
   ]
  },
  {
   "cell_type": "code",
   "execution_count": 6,
   "id": "1557bdf4",
   "metadata": {
    "ExecuteTime": {
     "end_time": "2024-06-25T11:59:16.426000+01:00",
     "start_time": "2024-06-25T10:58:57.164Z"
    },
    "hidden": true
   },
   "outputs": [],
   "source": [
    "#For simplicity we assume only recessive NHEJ products, therefore remove the dominant allele to reduce no. genotypes\n",
    "genotypes_mask = [\"A3\" in g for g in genotypes_f].==0\n",
    "alleles_mask = [\"A3\" in g for g in falleles].==0\n",
    "\n",
    "genotypes_f = genotypes_f[genotypes_mask]\n",
    "genotypes_m = genotypes_m[genotypes_mask]\n",
    "maternal_gt = maternal_gt[genotypes_mask,alleles_mask]\n",
    "paternal_gt = paternal_gt[genotypes_mask,vcat(alleles_mask,alleles_mask)]\n",
    "fitness_f = fitness_f[genotypes_mask]\n",
    "fitness_m = fitness_m[genotypes_mask]\n",
    "falleles = falleles[alleles_mask]\n",
    "malleles = malleles[alleles_mask]\n",
    "\n",
    "inputs = [genotypes_f,\n",
    "    genotypes_m,\n",
    "    maternal_gt,\n",
    "    paternal_gt,\n",
    "    fitness_f,\n",
    "    fitness_m];"
   ]
  },
  {
   "cell_type": "markdown",
   "id": "f9976ca4",
   "metadata": {
    "heading_collapsed": true
   },
   "source": [
    "### Simulate cage trial"
   ]
  },
  {
   "cell_type": "markdown",
   "id": "27a8d541",
   "metadata": {
    "heading_collapsed": true,
    "hidden": true
   },
   "source": [
    "#### Set up"
   ]
  },
  {
   "cell_type": "code",
   "execution_count": 15,
   "id": "19245d1d",
   "metadata": {
    "ExecuteTime": {
     "end_time": "2024-06-25T11:59:46.072000+01:00",
     "start_time": "2024-06-25T10:59:45.673Z"
    },
    "hidden": true
   },
   "outputs": [
    {
     "data": {
      "text/latex": [
       "$0.00354741143537433$"
      ],
      "text/plain": [
       "0.00354741143537433"
      ]
     },
     "execution_count": 15,
     "metadata": {},
     "output_type": "execute_result"
    }
   ],
   "source": [
    "d_eq, e_eq, u_eq = symbols(\"d e u\");\n",
    "\n",
    "non_homed = 1-e_eq\n",
    "WT = non_homed*(1-u_eq)\n",
    "NHEJ = non_homed*u_eq;\n",
    "c_eq = e_eq+NHEJ\n",
    "j_eq = simplify(NHEJ/c_eq)\n",
    "\n",
    "u_ = 0.392 #Hammond et al 2020\n",
    "d_ = 0.9955 #Data from Anna\n",
    "e_ = (d_-0.5)*2\n",
    "\n",
    "cleavage = subs(c_eq,(e_eq,e_),(u_eq,u_))\n",
    "joining =subs(j_eq,(e_eq,e_),(u_eq,u_))\n"
   ]
  },
  {
   "cell_type": "code",
   "execution_count": 16,
   "id": "099e6924",
   "metadata": {
    "ExecuteTime": {
     "end_time": "2024-06-25T11:59:46.962000+01:00",
     "start_time": "2024-06-25T10:59:46.810Z"
    },
    "hidden": true
   },
   "outputs": [],
   "source": [
    "# Define inheritance and fitness params\n",
    "pdict = Dict()\n",
    "pdict[saf]=1.0\n",
    "pdict[haf]=1.0\n",
    "pdict[sαf]=1.0\n",
    "pdict[hαf]=0.0\n",
    "pdict[saαf]=1.0\n",
    "pdict[sam]=0.0\n",
    "pdict[ham]=0.0\n",
    "pdict[sαm]=0.0\n",
    "pdict[hαm]=0.0\n",
    "pdict[saαm]=0.0\n",
    "\n",
    "pdict[c]=cleavage\n",
    "pdict[j]=joining\n",
    "pdict[p]=1.0\n",
    "\n",
    "subs_list = [(p,pdict[p]) for p in keys(pdict)];"
   ]
  },
  {
   "cell_type": "code",
   "execution_count": 17,
   "id": "39fd720c",
   "metadata": {
    "ExecuteTime": {
     "end_time": "2024-06-25T11:59:48.150000+01:00",
     "start_time": "2024-06-25T10:59:47.495Z"
    },
    "hidden": true
   },
   "outputs": [],
   "source": [
    "#Fitness\n",
    "fitness_f_vals = Array{Float64}(fitness_f.subs(subs_list))\n",
    "fitness_m_vals = Array{Float64}(fitness_m.subs(subs_list))\n",
    "\n",
    "maternal_gt_vals = Array{Float64}(maternal_gt.subs(subs_list))\n",
    "paternal_gt_vals = Array{Float64}(paternal_gt.subs(subs_list))\n",
    "\n",
    "ic_f_vals,ic_m_vals  = make_ics(maternal_gt_vals,paternal_gt_vals);\n"
   ]
  },
  {
   "cell_type": "code",
   "execution_count": 18,
   "id": "6f7cb97c",
   "metadata": {
    "ExecuteTime": {
     "end_time": "2024-06-25T11:59:48.264000+01:00",
     "start_time": "2024-06-25T10:59:48.260Z"
    },
    "hidden": true
   },
   "outputs": [],
   "source": [
    "egg_count_csv = CSV.File(\"./egg counts.csv\")\n",
    "egg_count_df = DataFrame(egg_count_csv)\n",
    "Egg_array = vcat(collect(skipmissing(egg_count_df[!,\"WT\"])),\n",
    "    collect(skipmissing(egg_count_df[!,\"MDFS\"])),\n",
    "    collect(skipmissing(egg_count_df[!,\"MDFS + X-shr\"])),\n",
    "    collect(skipmissing(egg_count_df[!,\"WT_1\"])),\n",
    "    collect(skipmissing(egg_count_df[!,\"WT_2\"])),\n",
    "    collect(skipmissing(egg_count_df[!,\"WT_3\"]))\n",
    "    );"
   ]
  },
  {
   "cell_type": "code",
   "execution_count": 19,
   "id": "40380764",
   "metadata": {
    "ExecuteTime": {
     "end_time": "2024-06-25T11:59:48.587000+01:00",
     "start_time": "2024-06-25T10:59:48.578Z"
    },
    "hidden": true
   },
   "outputs": [
    {
     "data": {
      "text/plain": [
       "34.60752462209466"
      ]
     },
     "execution_count": 19,
     "metadata": {},
     "output_type": "execute_result"
    }
   ],
   "source": [
    "#Calculate the Rm of the population\n",
    "average_eggs = sum(Egg_array)/length(Egg_array)\n",
    "hatching =  0.862\n",
    "pupae_surv_female = 0.9915*(1-0.063)\n",
    "mating_probability = 0.933\n",
    "\n",
    "(average_eggs*hatching*pupae_surv_female*mating_probability)/2"
   ]
  },
  {
   "cell_type": "code",
   "execution_count": 20,
   "id": "8173651c",
   "metadata": {
    "ExecuteTime": {
     "end_time": "2024-06-25T11:59:50.720000+01:00",
     "start_time": "2024-06-25T10:59:50.714Z"
    },
    "hidden": true
   },
   "outputs": [
    {
     "data": {
      "text/plain": [
       "8.651881155523665"
      ]
     },
     "execution_count": 20,
     "metadata": {},
     "output_type": "execute_result"
    }
   ],
   "source": [
    "#Reducing the reproductive output to 1/4 mimics a population growth rate of ~9 \n",
    "34.60752462209466/4"
   ]
  },
  {
   "cell_type": "code",
   "execution_count": 21,
   "id": "7f8c77ba",
   "metadata": {
    "ExecuteTime": {
     "end_time": "2024-06-25T11:59:51.840000+01:00",
     "start_time": "2024-06-25T10:59:51.794Z"
    },
    "code_folding": [],
    "hidden": true
   },
   "outputs": [
    {
     "data": {
      "text/plain": [
       "run_sim (generic function with 1 method)"
      ]
     },
     "execution_count": 21,
     "metadata": {},
     "output_type": "execute_result"
    }
   ],
   "source": [
    "function run_sim(Egg_array,fitness_f,ic; n_released_males = 100, n_releases = 5, first_release = 4, gen = 20,s=1)\n",
    "    \n",
    "    #____________________________________________________________\n",
    "    #Parameters from observed rates\n",
    "    \n",
    "    #Egg_Array loaded in from csv above - includes results of females who mate and lay 0 eggs. \n",
    "    \n",
    "    #Probablilty of each female mating, males are assumed to all be available\n",
    "    mating_probability = 0.933 #data from phenotype assay\n",
    "    \n",
    "    #Hatching probability\n",
    "    hatching = 0.862 #phenotype assays\n",
    "    \n",
    "    #Probability of larvae pupating\n",
    "    larvae_surv = 0.96 #lab assays\n",
    "    \n",
    "    #Probability of pupae emerging and surviving to mating\n",
    "    pupae_emergence = 0.9915\n",
    "    surv_to_feed = 1-0.063\n",
    "    surv_male_drowning = 1-0.0644\n",
    "    pupae_surv_female = pupae_emergence*surv_to_feed*mating_probability\n",
    "    pupae_surv_male = pupae_emergence*surv_to_feed*surv_male_drowning\n",
    "    #____________________________________________________________\n",
    "    #Storage for time series output\n",
    "    total_egg_count = [NaN]\n",
    "    total_MDFS_freq = [0.0]\n",
    "    n_WT_females = [200]\n",
    "\n",
    "    #____________________________________________________________\n",
    "    #Starting population\n",
    "    #Genotype categories = WT/WT, WT/MDFS, WT/R, MDFS/MDFS, MDFS/R, R/R\n",
    "    n_male_pupae = [200,0,0,0,0,0];\n",
    "    n_female_pupae = [200,0,0,0,0,0];\n",
    "\n",
    "    #3 WT generations before the first release\n",
    "    for t in 1:gen\n",
    "        \n",
    "        #____________________________________________________________\n",
    "        # Generate the number of females of each genotype which mate \n",
    "        ## This is a combination of\n",
    "            ## the number of female pupae in the cage\n",
    "            ## the probability of each pupae surviving to adulthood: currently equal for all genotypes\n",
    "            ## the probability of each female mating: currently equal for all genotypes\n",
    "        n_mating_female = [0,0,0,0,0,0]\n",
    "        #Draw number of mating females from n_pupae of each genotypes from a binomial distribution\n",
    "            ## This is done separately for the group of females of each genotype\n",
    "        for g in 1:6  \n",
    "            dist = Binomial(n_female_pupae[g],pupae_surv_female)\n",
    "            n_mating_female[g] = rand(dist)\n",
    "        end\n",
    "        #Apply fitness effects to females: \n",
    "            ## All MDFS females die\n",
    "            ## All those carrying two disrupted loci die (MDFS or non-functional mutant)\n",
    "        ## Since the empirical data shows 100% KO, we apply fitness costs without drawing any random numbers\n",
    "        n_mating_female = Int64.(n_mating_female .* fitness_f[:])\n",
    "\n",
    "        #____________________________________________________________\n",
    "        # Generate the number of males of each genotype which enter the mating pool\n",
    "        \n",
    "        #Release MDFS male heterozygotes into the cage given a certain release regime        \n",
    "        if ((t >= first_release) & (t < first_release+n_releases))\n",
    "            n_male_pupae[2] = n_male_pupae[2] + n_released_males\n",
    "        end\n",
    "        \n",
    "        #Generate the number of males of each genotype which enter the mating pool\n",
    "        ## This is a combination of\n",
    "            ## the number of male pupae in the cage\n",
    "            ## the probability of each male pupae surviving to adulthood: currently equal for all genotypes\n",
    "        ## We assume all males can mate with any female, and males can mate mutliple times: \n",
    "            ##there is no reduced mating success by genotype\n",
    "        n_mating_male = [0,0,0,0,0,0]\n",
    "        \n",
    "        #Draw number of surviving males from n_pupae of each genotypes from a binomial distribution\n",
    "            ## This is done separately for the group of males of each genotype\n",
    "        for g in 1:6  \n",
    "            dist = Binomial(n_male_pupae[g],pupae_surv_male)\n",
    "            n_mating_male[g] = rand(dist)\n",
    "        end\n",
    "        #No genotype specific fitness effects are applied to males\n",
    "\n",
    "        #____________________________________________________________\n",
    "        #Check whether there are both adult males and females in the population\n",
    "            ## Otherwise end the simulation\n",
    "        if (sum(n_mating_male) .== 0) | (sum(n_mating_female) .== 0)\n",
    "            #CENSUS? \n",
    "            push!(total_egg_count,0)\n",
    "            push!(total_MDFS_freq,NaN)\n",
    "            push!(n_WT_females,0)\n",
    "            return(total_egg_count,total_MDFS_freq,n_WT_females)\n",
    "        end\n",
    "               \n",
    "        #____________________________________________________________\n",
    "        #Produce eggs\n",
    "        n_eggs_store = [0,0,0,0,0,0]\n",
    "        #Create the mating pairs\n",
    "        ## For each female genotype, draw the male partners from a multinomial distribution parameterised by\n",
    "            ## the number of females of the genotype in the cage\n",
    "            ## the frequency of males of each genotype in the cage\n",
    "        for n_females_genotype in 1:6 \n",
    "            dist = Multinomial(n_mating_female[n_females_genotype], n_mating_male./sum(n_mating_male))\n",
    "            mating_pairs = rand(dist)\n",
    "            #Create the eggs produced by each mating pair:\n",
    "            #The total number of eggs for each mating pair is drawn from an array of observed egg numnbers\n",
    "            #The genotype of each egg is drawn from a multinomial distribution parameterised by \n",
    "                #the number of eggs \n",
    "                #the probability of producing each type of offsping for the parental cross\n",
    "            for n_males_genotype in 1:6\n",
    "                for i in 1:mating_pairs[n_males_genotype]\n",
    "                    dist = Multinomial(rand(Egg_array), ic[n_females_genotype,n_males_genotype,:]) #LINE OF THE INHERITANCE CUBE\n",
    "                    #Track the total number of eggs produced per cage\n",
    "                    n_eggs_store = n_eggs_store .+ rand(dist)\n",
    "                end\n",
    "            end\n",
    "        end\n",
    "        #Eggs are assigned a sex at random\n",
    "            ## For each genotype, draw a random number of offspring to be classed as females \n",
    "            ## The remaning are classified as male\n",
    "        n_sexed_eggs_store = Array{Int64}(undef,(6,2))\n",
    "        for g in 1:6  \n",
    "            dist = Binomial(n_eggs_store[g],0.5)\n",
    "            n_sexed_eggs_store[g,1] = rand(dist)\n",
    "            n_sexed_eggs_store[g,2] = n_eggs_store[g]-n_sexed_eggs_store[g,1]\n",
    "        end\n",
    "        \n",
    "        #CENSUS the number of eggs\n",
    "        #Census the total number of eggs from a single round of laying\n",
    "        push!(total_egg_count,sum(n_eggs_store))\n",
    "        \n",
    "        \n",
    "        #____________________________________________________________\n",
    "        #Let all eggs hatch into larvae\n",
    "        n_sexed_larvae_store = Array{Int64}(undef,(6,2))\n",
    "        #Draw number of larvae from n_eggs of each genotypes and sex from a binomial distribution\n",
    "            ## This is done separately for the group of males and females of each genotype\n",
    "        for g in 1:6  \n",
    "            dist = Binomial(n_sexed_eggs_store[g,1],hatching)\n",
    "            n_sexed_larvae_store[g,1] = rand(dist)\n",
    "            \n",
    "            dist = Binomial(n_sexed_eggs_store[g,2],hatching)\n",
    "            n_sexed_larvae_store[g,2] = rand(dist)\n",
    "        end\n",
    "                \n",
    "        #____________________________________________________________\n",
    "        #Measure the frequency of larvae carrying the MDFS construct\n",
    "            ##Take 5 trays of 150 and screen the larvae for frequency of the allele \n",
    "            ##Two or 3 trays of 150 larvae are kept for backup\n",
    "            ##Randomly downsample 150*5 individuals for measuring of the MDFS carrier\n",
    "        \n",
    "        dist = vcat(fill.([1,2,3,4,5,6,7,8,9,10,11,12], vcat(n_sexed_larvae_store[:,1],n_sexed_larvae_store[:,2]))...)\n",
    "\n",
    "        if sum(vcat(n_sexed_larvae_store[:,1],n_sexed_larvae_store[:,2])) > (150*5)\n",
    "            sampled_larvae = sample(dist,Int64((150*5)),replace=false);\n",
    "            n_larvae = [count(==(i), sampled_larvae) for i in [1,2,3,4,5,6,7,8,9,10,11,12]]\n",
    "        else\n",
    "            n_larvae = vcat(n_sexed_larvae_store[:,1],n_sexed_larvae_store[:,2])\n",
    "        end\n",
    "        push!(total_MDFS_freq,(n_larvae[2]+\n",
    "                                n_larvae[4]+\n",
    "                                n_larvae[5]+\n",
    "                                n_larvae[2+6]+\n",
    "                                n_larvae[4+6]+\n",
    "                                n_larvae[5+6])/sum(n_larvae))\n",
    "        \n",
    "        #____________________________________________________________\n",
    "        #Apply artificial mortality\n",
    "        #Randomly select 1/s of the larvae to continue to the next generation... \n",
    "        #Assume exactly 1/4 of the larvae are selected and allowed to pupate, \n",
    "        ### Produce a vector containing numbers 1:6 representing the 12 genotypes of both sexes, \n",
    "            ## each repeated the number of times they are present in the larvae population. \n",
    "            ## This is to allow down sampling by randomly selecting X individuals from the egg pool without replacement.\n",
    "\n",
    "        dist = vcat(fill.([1,2,3,4,5,6,7,8,9,10,11,12], vcat(n_sexed_larvae_store[:,1],n_sexed_larvae_store[:,2]))...)\n",
    "        \n",
    "        total_n_larvae = sum(vcat(n_sexed_larvae_store[:,1],n_sexed_larvae_store[:,2]))\n",
    "        sampled_larvae = sample(dist,Int64(round(total_n_larvae/s)),replace=false);\n",
    "        n_larvae = [count(==(i), sampled_larvae) for i in [1,2,3,4,5,6,7,8,9,10,11,12]]\n",
    "        n_sexed_larvae_store = Array{Int64}(undef,(6,2))\n",
    "        n_sexed_larvae_store[:,1] = n_larvae[1:6]\n",
    "        n_sexed_larvae_store[:,2] = n_larvae[7:end]\n",
    "        \n",
    "        #____________________________________________________________\n",
    "        #Let larvae pupate\n",
    "        n_sexed_pupae_store = Array{Int64}(undef,(6,2))\n",
    "        #Draw number of larvae from n_eggs of each genotypes and sex from a binomial distribution\n",
    "            ## This is done separately for the group of males and females of each genotype\n",
    "        for g in 1:6  \n",
    "            dist = Binomial(n_sexed_larvae_store[g,1],larvae_surv)\n",
    "            n_sexed_pupae_store[g,1] = rand(dist)\n",
    "            \n",
    "            dist = Binomial(n_sexed_larvae_store[g,2],larvae_surv)\n",
    "            n_sexed_pupae_store[g,2] = rand(dist)\n",
    "        end\n",
    "        \n",
    "        #____________________________________________________________\n",
    "        #Produce new generation by randomly selecting 400 pupae to seed the next cage\n",
    "            ## Produce a vector containing numbers 1:6 representing the 12 genotypes of both sexes, \n",
    "            ## each repeated the number of times they are present in the pupae population. \n",
    "            ## This is to allow down sampling by randomly selecting X individuals from the egg pool without replacement.\n",
    "        dist = vcat(fill.([1,2,3,4,5,6,7,8,9,10,11,12], vcat(n_sexed_pupae_store[:,1],n_sexed_pupae_store[:,2]))...)\n",
    "\n",
    "        total_n_pupae = sum(vcat(n_sexed_pupae_store[:,1],n_sexed_pupae_store[:,2]))\n",
    "        if total_n_pupae > 400\n",
    "            sampled_pupae = sample(dist,Int64(400),replace=false);\n",
    "            n_pupae = [count(==(i), sampled_pupae) for i in [1,2,3,4,5,6,7,8,9,10,11,12]]\n",
    "        else\n",
    "            n_pupae = vcat(n_sexed_pupae_store[:,1],n_sexed_pupae_store[:,2])\n",
    "        end\n",
    "\n",
    "        n_female_pupae = n_pupae[1:6]\n",
    "        n_male_pupae = n_pupae[7:12]\n",
    "        \n",
    "        #When the pupae are selected they are sexed and the number of WT female pupae entering the next population are counted\n",
    "        push!(n_WT_females,(n_female_pupae[1]+n_female_pupae[3]))\n",
    "        \n",
    "        \n",
    "    end\n",
    "    \n",
    "    return(total_egg_count,total_MDFS_freq,n_WT_females)\n",
    "end"
   ]
  },
  {
   "cell_type": "markdown",
   "id": "b4e33657",
   "metadata": {
    "hidden": true
   },
   "source": [
    "#### Calculating expectations"
   ]
  },
  {
   "cell_type": "code",
   "execution_count": 73,
   "id": "2a830295",
   "metadata": {
    "ExecuteTime": {
     "end_time": "2024-06-25T12:30:05.350000+01:00",
     "start_time": "2024-06-25T11:17:46.486Z"
    },
    "code_folding": [
     0
    ],
    "hidden": true
   },
   "outputs": [],
   "source": [
    "#Testing for elimination probability\n",
    "Random.seed!(123)\n",
    "n=0\n",
    "elim = []\n",
    "for i in 1:1000000\n",
    "    run = run_sim(Egg_array,fitness_f_vals,ic_f_vals.+ic_m_vals,n_releases = 50, first_release = 4, gen = 50,s=4)\n",
    "    #Save the number of generations with population size >0 (i.e. survival time)\n",
    "    push!(elim,length(run[3][run[3].>0]))\n",
    "end\n",
    "#Remove the first 3 since these were \"non-release\" generations\n",
    "elim = elim.-3;"
   ]
  },
  {
   "cell_type": "code",
   "execution_count": 74,
   "id": "b1897802",
   "metadata": {
    "ExecuteTime": {
     "end_time": "2024-06-25T12:30:05.351000+01:00",
     "start_time": "2024-06-25T11:17:46.830Z"
    },
    "hidden": true,
    "scrolled": true
   },
   "outputs": [
    {
     "data": {
      "text/plain": [
       "9.219171"
      ]
     },
     "execution_count": 74,
     "metadata": {},
     "output_type": "execute_result"
    }
   ],
   "source": [
    "#Mean no. generations populations persist\n",
    "mean(elim)"
   ]
  },
  {
   "cell_type": "code",
   "execution_count": 75,
   "id": "b36b78b9",
   "metadata": {
    "ExecuteTime": {
     "end_time": "2024-06-25T12:30:05.353000+01:00",
     "start_time": "2024-06-25T11:17:47.131Z"
    },
    "hidden": true
   },
   "outputs": [
    {
     "data": {
      "text/plain": [
       "5.831051798254245"
      ]
     },
     "execution_count": 75,
     "metadata": {},
     "output_type": "execute_result"
    }
   ],
   "source": [
    "std(elim)"
   ]
  },
  {
   "cell_type": "code",
   "execution_count": 76,
   "id": "822a704b",
   "metadata": {
    "ExecuteTime": {
     "end_time": "2024-06-25T12:30:05.357000+01:00",
     "start_time": "2024-06-25T11:17:47.338Z"
    },
    "hidden": true
   },
   "outputs": [
    {
     "data": {
      "text/plain": [
       "5.0"
      ]
     },
     "execution_count": 76,
     "metadata": {},
     "output_type": "execute_result"
    }
   ],
   "source": [
    "quantile(elim,0.025)"
   ]
  },
  {
   "cell_type": "code",
   "execution_count": 77,
   "id": "294f7634",
   "metadata": {
    "ExecuteTime": {
     "end_time": "2024-06-25T12:30:05.360000+01:00",
     "start_time": "2024-06-25T11:17:47.518Z"
    },
    "hidden": true
   },
   "outputs": [
    {
     "data": {
      "text/plain": [
       "25.0"
      ]
     },
     "execution_count": 77,
     "metadata": {},
     "output_type": "execute_result"
    }
   ],
   "source": [
    "quantile(elim,0.975)"
   ]
  },
  {
   "cell_type": "code",
   "execution_count": 98,
   "id": "c0d4cefb",
   "metadata": {
    "ExecuteTime": {
     "end_time": "2024-06-25T15:52:14.195000+01:00",
     "start_time": "2024-06-25T14:36:19.742Z"
    },
    "code_folding": [],
    "hidden": true
   },
   "outputs": [],
   "source": [
    "#Testing for survival probability after 3 releases for 10 generations\n",
    "Random.seed!(123)\n",
    "n=0\n",
    "elim = []\n",
    "nsims = 1000000\n",
    "for i in 1:nsims\n",
    "    run = run_sim(Egg_array,fitness_f_vals,ic_f_vals.+ic_m_vals,n_released_males = 100,n_releases = 3, first_release = 4, gen = 15 ,s=4)\n",
    "    push!(elim,run[3][end]==0)\n",
    "end\n"
   ]
  },
  {
   "cell_type": "code",
   "execution_count": 99,
   "id": "1051166e",
   "metadata": {
    "ExecuteTime": {
     "end_time": "2024-06-25T15:52:14.210000+01:00",
     "start_time": "2024-06-25T14:36:23.091Z"
    },
    "hidden": true
   },
   "outputs": [
    {
     "data": {
      "text/plain": [
       "0.832098"
      ]
     },
     "execution_count": 99,
     "metadata": {},
     "output_type": "execute_result"
    }
   ],
   "source": [
    "1-(sum(elim)/nsims)"
   ]
  },
  {
   "cell_type": "code",
   "execution_count": null,
   "id": "e95646f1",
   "metadata": {
    "ExecuteTime": {
     "start_time": "2024-06-25T14:58:43.204Z"
    },
    "code_folding": [],
    "hidden": true
   },
   "outputs": [],
   "source": [
    "#Testing for survival probability after 4 releases for 10 generations\n",
    "Random.seed!(123)\n",
    "n=0\n",
    "elim = []\n",
    "nsims = 1000000\n",
    "for i in 1:nsims\n",
    "    run = run_sim(Egg_array,fitness_f_vals,ic_f_vals.+ic_m_vals,n_released_males = 100,n_releases = 4, first_release = 4, gen = 16 ,s=4)\n",
    "    push!(elim,run[3][end]==0)\n",
    "end\n",
    "1-(sum(elim)/nsims)"
   ]
  },
  {
   "cell_type": "markdown",
   "id": "32cef812",
   "metadata": {
    "heading_collapsed": true,
    "hidden": true
   },
   "source": [
    "#### Figure 4"
   ]
  },
  {
   "cell_type": "code",
   "execution_count": 22,
   "id": "7a11f6d0",
   "metadata": {
    "ExecuteTime": {
     "end_time": "2024-06-25T11:59:52.210000+01:00",
     "start_time": "2024-06-25T10:59:52.199Z"
    },
    "hidden": true
   },
   "outputs": [],
   "source": [
    "Release1 = [200,202,215,187,127,81,43,55,24,16,10,0]\n",
    "Release2 = [200,186,198,189,143,128,72,45,38,31,18,0]\n",
    "Stop1 = [200,202,215,187,127,81,49,87,58,78,66,60,61]\n",
    "Stop2 = [200,186,198,189,143,128,70,62,52,66,45,79,107]\n",
    "\n",
    "Release1_CFP = [0,0,0,0,0.233,0.584,0.699,0.683,0.845,0.789,0.904,1.0]\n",
    "Release2_CFP = [0,0,0,0,0.233,0.391,0.64,0.793,0.808,0.707,0.895,1.0]\n",
    "Stop1_CFP = [0,0,0,0,0.233,0.584,0.699,0.595,0.621,0.597,0.688,0.720,0.775,0.823]\n",
    "Stop2_CFP = [0,0,0,0,0.233,0.391,0.64,0.637,0.66,0.652,0.697,0.375,0.413,0.381];"
   ]
  },
  {
   "cell_type": "code",
   "execution_count": 294,
   "id": "b59d4ba8",
   "metadata": {
    "ExecuteTime": {
     "end_time": "2024-06-24T16:51:58.530000+01:00",
     "start_time": "2024-06-24T15:51:56.898Z"
    },
    "code_folding": [
     0
    ],
    "hidden": true
   },
   "outputs": [
    {
     "name": "stdout",
     "output_type": "stream",
     "text": [
      "0.152\n"
     ]
    },
    {
     "data": {
      "image/png": "[encoded data removed]",
      "text/plain": [
       "PyPlot.Figure(PyObject <Figure size 400x300 with 1 Axes>)"
      ]
     },
     "metadata": {},
     "output_type": "display_data"
    }
   ],
   "source": [
    "#No. WT females\n",
    "Random.seed!(123)\n",
    "f1 = PyPlot.figure(figsize=(4,3),frameon=false)\n",
    "dist = []\n",
    "#drive construct\n",
    "n=0\n",
    "for i in 1:1000\n",
    "    run = run_sim(Egg_array,fitness_f_vals,ic_f_vals.+ic_m_vals, n_released_males = 100,n_releases = 3, first_release = 4, gen = 10+4+3-2,s=4)[3]\n",
    "    if run[end] == 0\n",
    "        PyPlot.plot(1:length(run),run,c=\"#E5DEC6\",\"-\",linewidth = 0.5,alpha=0.5)\n",
    "        n = n+1\n",
    "    else\n",
    "        PyPlot.plot(1:length(run),run,c=\"#E5DEC6\",\"-\",linewidth = 0.5,alpha=0.5)\n",
    "    end\n",
    "    push!(dist,run[6])\n",
    "    \n",
    "end\n",
    "\n",
    "#\"#C3B37C\"\n",
    "\n",
    "PyPlot.plot(1:13,Stop1,c=\"#8EB9E5\",\".-\") #1 Stop\n",
    "PyPlot.plot(1:13,Stop2,c=\"#364524\",\".-\") #2 Stop\n",
    "PyPlot.xticks(collect(1:16))\n",
    "\n",
    "PyPlot.xlim([1,gen+1])\n",
    "PyPlot.ylim([0,250])\n",
    "PyPlot.xlabel(\"Generation\",size=10)\n",
    "PyPlot.ylabel(\"Number of WT females\",size=10)\n",
    "\n",
    "PyPlot.show()\n",
    "\n",
    "println(n/1000)"
   ]
  },
  {
   "cell_type": "code",
   "execution_count": 296,
   "id": "db83d31d",
   "metadata": {
    "ExecuteTime": {
     "end_time": "2024-06-24T16:52:26.808000+01:00",
     "start_time": "2024-06-24T15:52:25.605Z"
    },
    "code_folding": [
     0
    ],
    "hidden": true
   },
   "outputs": [
    {
     "name": "stdout",
     "output_type": "stream",
     "text": [
      "0.975\n"
     ]
    },
    {
     "data": {
      "image/png": "[encoded data removed]",
      "text/plain": [
       "PyPlot.Figure(PyObject <Figure size 400x300 with 1 Axes>)"
      ]
     },
     "metadata": {},
     "output_type": "display_data"
    }
   ],
   "source": [
    "#No. WT females\n",
    "f1 = PyPlot.figure(figsize=(4,3),frameon=false)\n",
    "Random.seed!(123)\n",
    "dist = []\n",
    "#drive construct\n",
    "n=0\n",
    "for i in 1:1000\n",
    "    run = run_sim(Egg_array,fitness_f_vals,ic_f_vals.+ic_m_vals,n_released_males = 100,n_releases = 20, first_release = 4, gen = 19+3+4,s=4)[3]\n",
    "    if run[end] == 0\n",
    "        PyPlot.plot(1:length(run),run,c=\"#E5DEC6\",\"-\",linewidth = 0.5,alpha=0.1)\n",
    "        n = n+1\n",
    "    else\n",
    "        PyPlot.plot(1:length(run),run,c=\"#E5DEC6\",\"-\",linewidth = 0.5,alpha=0.1)\n",
    "        push!(dist,run[12])\n",
    "    end\n",
    "    \n",
    "end\n",
    "\n",
    "PyPlot.plot(1:12,Release1,c=\"#8EB9E5\",\".-\") #1 Cont\n",
    "PyPlot.plot(1:12,Release2,c=\"#364524\",\".-\") #2 Cont\n",
    "\n",
    "\n",
    "PyPlot.xlim([1,gen+1])\n",
    "PyPlot.ylim([0,250])\n",
    "PyPlot.xlabel(\"Generation\",size=10)\n",
    "PyPlot.ylabel(\"Number of WT females\",size=10)\n",
    "PyPlot.xticks(collect(1:16))\n",
    "#PyPlot.legend()\n",
    "\n",
    "PyPlot.show()\n",
    "\n",
    "println(n/1000)"
   ]
  },
  {
   "cell_type": "code",
   "execution_count": 297,
   "id": "ed33ce11",
   "metadata": {
    "ExecuteTime": {
     "end_time": "2024-06-24T16:52:37.853000+01:00",
     "start_time": "2024-06-24T15:52:36.114Z"
    },
    "code_folding": [
     0
    ],
    "hidden": true
   },
   "outputs": [
    {
     "data": {
      "image/png": "[encoded data removed]",
      "text/plain": [
       "PyPlot.Figure(PyObject <Figure size 400x300 with 1 Axes>)"
      ]
     },
     "metadata": {},
     "output_type": "display_data"
    }
   ],
   "source": [
    "#Larvae frequency\n",
    "f1 = PyPlot.figure(figsize=(4,3),frameon=false)\n",
    "Random.seed!(123)\n",
    "#drive construct\n",
    "n=0\n",
    "for i in 1:1000\n",
    "    run = run_sim(Egg_array,fitness_f_vals,ic_f_vals.+ic_m_vals,n_releases = 3, first_release = 4, gen = 20,s=4)\n",
    "    if run[3][end] == 0\n",
    "        PyPlot.plot(1:length(run[2]),run[2],c=\"#E5DEC6\",\"-\",linewidth = 0.5,alpha=0.5)\n",
    "        n = n+1\n",
    "    else\n",
    "        PyPlot.plot(1:length(run[2]),run[2],c=\"#E5DEC6\",\"-\",linewidth = 0.5,alpha=0.5)\n",
    "    end\n",
    "end\n",
    "\n",
    "PyPlot.plot(1:14,Stop1_CFP,c=\"#8EB9E5\",\".-\") #1 stop\n",
    "PyPlot.plot(1:14,Stop2_CFP,c=\"#364524\",\".-\") #2 stop\n",
    "PyPlot.xticks(collect(1:16))\n",
    "\n",
    "PyPlot.xlim([1,gen+1])\n",
    "PyPlot.ylim([0,1.03])\n",
    "PyPlot.xlabel(\"Generation\",size=10)\n",
    "PyPlot.ylabel(\"Frequency of MDFS in larvae\",size=10)\n",
    "PyPlot.xticks(collect(1:16))\n",
    "\n",
    "PyPlot.show()"
   ]
  },
  {
   "cell_type": "code",
   "execution_count": 299,
   "id": "dc3b9577",
   "metadata": {
    "ExecuteTime": {
     "end_time": "2024-06-24T16:52:53.557000+01:00",
     "start_time": "2024-06-24T15:52:52.387Z"
    },
    "code_folding": [
     0
    ],
    "hidden": true
   },
   "outputs": [
    {
     "data": {
      "image/png": "[encoded data removed]",
      "text/plain": [
       "PyPlot.Figure(PyObject <Figure size 400x300 with 1 Axes>)"
      ]
     },
     "metadata": {},
     "output_type": "display_data"
    }
   ],
   "source": [
    "#Larvae frequency\n",
    "f1 = PyPlot.figure(figsize=(4,3),frameon=false)\n",
    "Random.seed!(123)\n",
    "#drive construct\n",
    "n=0\n",
    "for i in 1:1000\n",
    "    run = run_sim(Egg_array,fitness_f_vals,ic_f_vals.+ic_m_vals,n_releases = 20, first_release = 4, gen = 20,s=4)\n",
    "    if run[3][end] == 0\n",
    "        PyPlot.plot(1:length(run[2]),run[2],c=\"#E5DEC6\",\"-\",linewidth = 0.5,alpha=0.5)\n",
    "        n = n+1\n",
    "    else\n",
    "        PyPlot.plot(1:length(run[2]),run[2],c=\"#E5DEC6\",\"-\",linewidth = 0.5,alpha=0.5)\n",
    "    end\n",
    "end\n",
    "\n",
    "PyPlot.plot(1:12,Release1_CFP,c=\"#8EB9E5\",\".-\") #1 cont\n",
    "PyPlot.plot(1:12,Release2_CFP,c=\"#364524\",\".-\") #2 cont\n",
    "\n",
    "PyPlot.xlim([1,gen+1])\n",
    "PyPlot.ylim([0,1.03])\n",
    "PyPlot.xlabel(\"Generation\",size=10)\n",
    "PyPlot.ylabel(\"Frequency of MDFS in larvae\",size=10)\n",
    "PyPlot.xticks(collect(1:16))\n",
    "\n",
    "PyPlot.show()"
   ]
  }
 ],
 "metadata": {
  "@webio": {
   "lastCommId": null,
   "lastKernelId": null
  },
  "kernelspec": {
   "display_name": "Julia 1.9.3",
   "language": "julia",
   "name": "julia-1.9"
  },
  "language_info": {
   "file_extension": ".jl",
   "mimetype": "application/julia",
   "name": "julia",
   "version": "1.9.3"
  },
  "toc": {
   "base_numbering": 1,
   "nav_menu": {},
   "number_sections": true,
   "sideBar": true,
   "skip_h1_title": true,
   "title_cell": "Table of Contents",
   "title_sidebar": "Contents",
   "toc_cell": false,
   "toc_position": {},
   "toc_section_display": true,
   "toc_window_display": false
  }
 },
 "nbformat": 4,
 "nbformat_minor": 5
}
